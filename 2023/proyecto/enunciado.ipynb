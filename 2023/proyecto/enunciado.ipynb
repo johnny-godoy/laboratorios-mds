{
 "cells": [
  {
   "attachments": {},
   "cell_type": "markdown",
   "id": "78c19fa0-2f05-4339-8a2b-cdc09c68b975",
   "metadata": {
    "pycharm": {
     "name": "#%% md\n"
    }
   },
   "source": [
    "![](https://www.dii.uchile.cl/wp-content/uploads/2021/06/Magi%CC%81ster-en-Ciencia-de-Datos.png)"
   ]
  },
  {
   "attachments": {},
   "cell_type": "markdown",
   "id": "3a560a74",
   "metadata": {
    "cell_id": "00000-f53914fc-294a-4bd9-ab99-c7f9f7e072d9",
    "deepnote_cell_type": "markdown",
    "pycharm": {
     "name": "#%% md\n"
    }
   },
   "source": [
    "# Proyecto: Innovación Tecnológica en Bodoque Bank\n",
    "\n",
    "**MDS7202: Laboratorio de Programación Científica para Ciencia de Datos**\n",
    "\n",
    "### Cuerpo Docente:\n",
    "\n",
    "- Profesor: Pablo Badilla, Ignacio Meza De La Jara\n",
    "- Auxiliar: Sebastián Tinoco\n",
    "- Ayudante: Diego Cortez M., Felipe Arias T.\n",
    "\n",
    "*Por favor, lean detalladamente las instrucciones de la tarea antes de empezar a escribir.*\n"
   ]
  },
  {
   "attachments": {},
   "cell_type": "markdown",
   "id": "59ff9d5b",
   "metadata": {
    "cell_id": "00001-7e639802-19f7-4bbe-9a97-e312f613a693",
    "deepnote_cell_type": "markdown",
    "pycharm": {
     "name": "#%% md\n"
    }
   },
   "source": [
    "----\n",
    "\n",
    "## Reglas\n",
    "\n",
    "- Fecha de entrega: 01/06/2021\n",
    "- **Grupos de 2 personas.**\n",
    "- Cualquier duda fuera del horario de clases al foro. Mensajes al equipo docente serán respondidos por este medio.\n",
    "- Estrictamente prohibida la copia. \n",
    "- Pueden usar cualquier material del curso que estimen conveniente."
   ]
  },
  {
   "attachments": {},
   "cell_type": "markdown",
   "id": "b020ce37",
   "metadata": {
    "cell_id": "00002-bf13ea5a-d8bf-4cee-879e-ba1c7035e657",
    "deepnote_cell_type": "markdown",
    "pycharm": {
     "name": "#%% md\n"
    }
   },
   "source": [
    "# Motivación\n",
    "\n",
    "![](https://www.geekmi.news/__export/1621969098810/sites/debate/img/2021/05/25/juan-carlos-bodoque-1.jpg_554688468.jpg)\n",
    "\n",
    "Juan Carlos Bodoque, el famoso periodista y empresario, decidió diversificar su portafolio de negocios y crear su propio banco. Después de varios años de investigar y analizar el mercado financiero, finalmente logró fundar su entidad bancaria con el objetivo de ofrecer a sus clientes una experiencia personalizada y confiable en sus transacciones financieras. \n",
    "\n",
    "Sin embargo, con las nuevas tecnologías, aparecen nuevos desafíos para la joven entidad bancaria. Por ello, Bodoque decide invertir en un equipo de expertos en tecnología y finanzas, para que Bodoque Bank implemente las últimas innovaciones en seguridad y servicio al cliente para garantizar la satisfacción y fidelización de sus clientes.\n",
    "\n",
    "El primer objetivo de la entidad bancaria será la detección de potenciales clientes fraudulentos, para ello Bodoque Bank les hace entrega de un extenso dataset en el que se registran las actividades que han realizado sus clientes durante los últimos meses. Uno de los puntos que resaltan al pasar el conjunto de datos es que el nombre de los usuarios está protegido y que consideren cada una de las filas como una muestra independiente de la otra.\n",
    "\n",
    "Tras la solicitud, uno de los mayores accionistas del banco llamado Mario Hugo, les sugiere que al momento de realizar el proyecto tomen las siguientes consideraciones:\n",
    "\n",
    "- Realicen un análisis exhaustivo de cada variable, ya que los directores tienden a ser quisquillosos con puntos o definiciones sin algún fundamento claro.\n",
    "- Deben ser muy claros de cómo encontrar los outliers y si es posible expliquen cómo están determinando que un cliente es fraudulento.\n",
    "- Es muy probable que existan clientes con diferentes comportamientos bancarios, por lo que sería muy buena decisión de separar a los clientes en grupos etarios.\n"
   ]
  },
  {
   "attachments": {},
   "cell_type": "markdown",
   "id": "1223ca1b",
   "metadata": {
    "cell_id": "00003-a5045731-0c9e-47a1-ae7b-243d8603e70b",
    "deepnote_cell_type": "markdown",
    "tags": [],
    "pycharm": {
     "name": "#%% md\n"
    }
   },
   "source": [
    "### Definición Formal del Problema\n",
    "\n",
    "El dataset con el que se trabajará en este primer proyecto será [_The Bank Account Fraud (BAF)_](https://www.kaggle.com/datasets/sgpjesus/bank-account-fraud-dataset-neurips-2022). Este consiste en un dataset para evaluar métodos de detección de fraudes bancarios, el cuál según sus autores es:\n",
    "\n",
    "- Realista: Se basa en un actualizado dataset de casos reales de detección de fraude bancario.\n",
    "- Sesgado: Poseen distintos tipos de bias.\n",
    "- Desbalanceado: Clase positiva extremadamente pequeña.\n",
    "- Dinámico: Presenta datos temporales y cambios de distribución.\n",
    "- Preserva la privacidad: Protege a los potenciales clientes a través de la aplicación de privacidad diferencial.\n",
    "\n",
    "El proyecto tiene por objetivo evaluar los conocimientos adquiridos en la primera mitad del curso, consistente en manejo de datos tabulares (I/O, manipulación, agregaciones, merge y visualizaciones) más la primera parte de modelos consistente en preprocesamiento de datos y detección de anomalías. Por ende, el proyecto consiste en dos tareas principales:\n",
    "\n",
    "1. Generar un Análisis exploratorio de Datos (EDA) que describa completamente el dataset.\n",
    "2. Buscar anomalías de forma automatizada.\n",
    "\n",
    "**Importante:** Esta permitido el uso de librerías externas a las vistas en clases para profundizar aún mas en los análisis. Sin embargo, al momento de utilizar cualqueir metodo deberán explicar que hace y el porque de su aplicación.\n"
   ]
  },
  {
   "attachments": {},
   "cell_type": "markdown",
   "id": "d8c982ca",
   "metadata": {
    "cell_id": "00005-7921fb53-59e9-49a1-a5a5-dec92da88299",
    "deepnote_cell_type": "markdown",
    "tags": [],
    "pycharm": {
     "name": "#%% md\n"
    }
   },
   "source": [
    "\n",
    "\n",
    "# Proyecto\n",
    "\n",
    "### Equipo:\n",
    "\n",
    "- Johnny Godoy\n",
    "- Las voces que atormentan a Johnny Godoy\n",
    "\n",
    "\n",
    "### Link de repositorio de GitHub: `http://github.com/johnny-godoy/laboratorios-mds`\n",
    "\n"
   ]
  },
  {
   "cell_type": "markdown",
   "source": [
    "\n",
    "## 1. Introducción\n"
   ],
   "metadata": {
    "collapsed": false,
    "pycharm": {
     "name": "#%% md\n"
    }
   }
  },
  {
   "cell_type": "markdown",
   "source": [
    "Elaborar una breve introducción con todo lo necesario para entender qué realizarán durante su proyecto.\n",
    "Idea: Describir formalmente el proyecto, aspectos básicos del dataset y del análisis a realizar sobre los datos.\n",
    "\n",
    "Por lo anterior, en esta sección ustedes deberán ser capaces de:\n",
    "* Describir la tarea asociada al dataset.\n",
    "* Describir brevemente los datos de entrada que les provee el problema.\n",
    "* Plantear hipótesis de cómo podrían abordar el problema."
   ],
   "metadata": {
    "collapsed": false,
    "pycharm": {
     "name": "#%% md\n"
    }
   },
   "outputs": [
    {
     "ename": "SyntaxError",
     "evalue": "invalid syntax (1853402450.py, line 1)",
     "output_type": "error",
     "traceback": [
      "\u001B[1;36m  Cell \u001B[1;32mIn[1], line 1\u001B[1;36m\u001B[0m\n\u001B[1;33m    Elaborar una breve introducción con todo lo necesario para entender qué realizarán durante su proyecto. La idea es que describan de manera formal el proyecto con sus propias palabras y logren describir algunos aspectos básicos tanto del dataset como del análisis a realizar sobre los datos.\u001B[0m\n\u001B[1;37m             ^\u001B[0m\n\u001B[1;31mSyntaxError\u001B[0m\u001B[1;31m:\u001B[0m invalid syntax\n"
     ]
    }
   ],
   "execution_count": 1
  },
  {
   "attachments": {},
   "cell_type": "markdown",
   "id": "720c912c-e759-4258-8085-5b3a0f4a3027",
   "metadata": {
    "jp-MarkdownHeadingCollapsed": true,
    "tags": [],
    "pycharm": {
     "name": "#%% md\n"
    }
   },
   "source": [
    "## 2. Lectura y Manejo de Datos\n",
    "\n",
    "\n"
   ]
  },
  {
   "cell_type": "markdown",
   "source": [
    "Este punto tiene por objetivo evaluar la capacidad de leer y manejar distintas fuentes de datos y unirlas.\n",
    "Para esto, se les provee de 3 datasets distintos:\n",
    "\n",
    "- `df_1.parquet` que contiene una cierta cantidad de ejemplos.\n",
    "- `df_2.parquet` que contiene el resto de los ejemplos.\n",
    "- `df_email_phone.parquet` que contiene características exclusivas relacionadas a los emails y teléfonos de los ejemplos.\n",
    "\n",
    "Tanto `df_1` como `df_2` son dataframes que contienen conjuntos (no necesariamente disjuntos) de ejemplos obtenidos a partir de distintas fuentes (la primera más confiable que la segunda)  mientras que `df_email_phone` contiene nuevas características que deben ser fusionadas con el conjunto de ejemplos.\n",
    "Dicho esto, para este punto se le solicita:\n",
    "\n",
    "1. Cargar los datasets usando pandas.\n",
    "2. Explorar superficialmente los datsets por medio de `.head(5)` e `.info()` y reportar número de filas y columnas de cada dataset.\n",
    "3. Unir los datasets con los conjuntos de ejemplos en un único dataset.\n",
    "4. Combinar el datasets con ejemplos con las nuevas características usando la estrategia `outer`.\n",
    "5. Explorar nulos y duplicados de datos (i.e., generar conteos de cada uno y ver algunos de sus ejemplos), explicar su origen y entregar una solución sencilla a estos casos.\n",
    "6. Limpiar datos y reportar modificaciones a los datasets originales (cuántos ejemplos se eliminaron, cuántos ejemplos quedaron finalmente, etc...).\n",
    "7. Realizar una segmentación etaria de los datos creando una columna llamada `segmentacion_etaria` para clasificar a los diferentes usuarios. Para la segmentación utilice los siguientes rangos:\n",
    "   - Joven (Menor a 18 años)\n",
    "   - Adulto-Joven (18 - 26 años)\n",
    "   - Adulto (27- 59 años)\n",
    "   - Persona Mayor (60 años o mas)."
   ],
   "metadata": {
    "collapsed": false,
    "pycharm": {
     "name": "#%% md\n"
    }
   }
  },
  {
   "attachments": {},
   "cell_type": "markdown",
   "id": "3c72c649-c228-43dd-adfd-16e3896203f3",
   "metadata": {
    "pycharm": {
     "name": "#%% md\n"
    }
   },
   "source": [
    "### 2.1 Cargar datos en dataframes"
   ]
  },
  {
   "cell_type": "code",
   "execution_count": null,
   "id": "74ce9ab5",
   "metadata": {
    "vscode": {
     "languageId": "plaintext"
    },
    "pycharm": {
     "name": "#%%\n"
    }
   },
   "outputs": [],
   "source": [
    "..."
   ]
  },
  {
   "attachments": {},
   "cell_type": "markdown",
   "id": "e6af3714-cc14-495a-8757-115e7cde7d31",
   "metadata": {
    "pycharm": {
     "name": "#%% md\n"
    }
   },
   "source": [
    "### 2.2 Exploración inicial"
   ]
  },
  {
   "cell_type": "code",
   "execution_count": null,
   "id": "8469fe2a",
   "metadata": {
    "vscode": {
     "languageId": "plaintext"
    },
    "pycharm": {
     "name": "#%%\n"
    }
   },
   "outputs": [],
   "source": [
    "..."
   ]
  },
  {
   "attachments": {},
   "cell_type": "markdown",
   "id": "882a9ff0-9399-43c7-9b7d-108e36ddef24",
   "metadata": {
    "pycharm": {
     "name": "#%% md\n"
    }
   },
   "source": [
    "### 2.3 Unir dataframes"
   ]
  },
  {
   "cell_type": "code",
   "execution_count": null,
   "id": "09bea965",
   "metadata": {
    "vscode": {
     "languageId": "plaintext"
    },
    "pycharm": {
     "name": "#%%\n"
    }
   },
   "outputs": [],
   "source": [
    "..."
   ]
  },
  {
   "attachments": {},
   "cell_type": "markdown",
   "id": "3359abbb-aa14-4c03-b108-cc7c0baa4031",
   "metadata": {
    "pycharm": {
     "name": "#%% md\n"
    }
   },
   "source": [
    "### 2.4 Unir nuevas variables"
   ]
  },
  {
   "cell_type": "code",
   "execution_count": null,
   "id": "bcd0d917",
   "metadata": {
    "vscode": {
     "languageId": "plaintext"
    },
    "pycharm": {
     "name": "#%%\n"
    }
   },
   "outputs": [],
   "source": [
    "..."
   ]
  },
  {
   "attachments": {},
   "cell_type": "markdown",
   "id": "813bab66-81d8-421f-921d-109a7e474790",
   "metadata": {
    "pycharm": {
     "name": "#%% md\n"
    }
   },
   "source": [
    "### 2.5 Verificar nulos y duplicados, generar explicaciones sobre sus fuentes y proponer soluciones.\n",
    "\n"
   ]
  },
  {
   "cell_type": "code",
   "execution_count": null,
   "id": "22c5ce09",
   "metadata": {
    "vscode": {
     "languageId": "plaintext"
    },
    "pycharm": {
     "name": "#%%\n"
    }
   },
   "outputs": [],
   "source": [
    "..."
   ]
  },
  {
   "attachments": {},
   "cell_type": "markdown",
   "id": "31b39557-4e12-4961-9a96-60d7eb945080",
   "metadata": {
    "pycharm": {
     "name": "#%% md\n"
    }
   },
   "source": [
    "### 2.6 Limpiar"
   ]
  },
  {
   "cell_type": "code",
   "execution_count": null,
   "id": "65507c50",
   "metadata": {
    "vscode": {
     "languageId": "plaintext"
    },
    "pycharm": {
     "name": "#%%\n"
    }
   },
   "outputs": [],
   "source": [
    "..."
   ]
  },
  {
   "attachments": {},
   "cell_type": "markdown",
   "id": "576f4495",
   "metadata": {
    "cell_id": "00007-d1ce17da-f6e0-4c12-bbe8-a40a46e7371b",
    "deepnote_cell_type": "markdown",
    "tags": [],
    "pycharm": {
     "name": "#%% md\n"
    }
   },
   "source": [
    "## 3. Análisis Exploratorio de Datos"
   ]
  },
  {
   "cell_type": "markdown",
   "source": [
    "Esta sección busca evaluar la capacidad de generar reportes y conclusiones a partir de los patrones observados en estos.\n",
    "\n",
    "- Utilizando `pandas-profiling` (nombre de la librería: `ydata-profiling`), explore:\n",
    "\n",
    "    * Analizar cantidad de datos nulos, tipos de datos, duplicados, distribuciones de las variables a través de histogramas.\n",
    "    * Generar visualizaciones de las interacciones (como por ejemplo, una scatter matrix) en las distintas variables.\n",
    "    * Ver las correlaciones entre las distintas variables y los valores faltantes de cada una de estas.\n",
    "    * Reportar los patrones interesantes observados. Ejemplos:\n",
    "        - Se observó que las variables numéricas A, B y C siguen una distribución normal / exponencial / logarítmica / no presenta distribución conocida debido a que (usar información sobre el descripción de cada variable)....\n",
    "        - La mayoría de los ejemplos de las variables I, J y K tienen valor 0.\n",
    "        - La variable M presenta gran cantidad de outliers.\n",
    "        - Se observó que las variables categóricas E y F están bien balanceadas / presentan un gran desbalance.\n",
    "        - Del gráfico de correlaciones se puede inferir que X, Y y Z tienen una correlación alta/baja entre ellas."
   ],
   "metadata": {
    "collapsed": false,
    "pycharm": {
     "name": "#%% md\n"
    }
   }
  },
  {
   "cell_type": "code",
   "execution_count": null,
   "id": "27056a96",
   "metadata": {
    "vscode": {
     "languageId": "plaintext"
    },
    "pycharm": {
     "name": "#%%\n"
    }
   },
   "outputs": [],
   "source": [
    "# profile = ProfileReport(df, title=\"EDA\")\n",
    "# profile.to_file(\"eda.html\")"
   ]
  },
  {
   "attachments": {},
   "cell_type": "markdown",
   "id": "9faaf197",
   "metadata": {
    "pycharm": {
     "name": "#%% md\n"
    }
   },
   "source": [
    "### 3.1 Análisis del EDA"
   ]
  },
  {
   "cell_type": "code",
   "execution_count": null,
   "id": "74869edc",
   "metadata": {
    "vscode": {
     "languageId": "plaintext"
    },
    "pycharm": {
     "name": "#%%\n"
    }
   },
   "outputs": [],
   "source": [
    "..."
   ]
  },
  {
   "attachments": {},
   "cell_type": "markdown",
   "id": "66c034e4",
   "metadata": {
    "cell_id": "00010-41569a5a-d2db-40c6-a236-99a8d5ef58b7",
    "deepnote_cell_type": "markdown",
    "pycharm": {
     "name": "#%% md\n"
    }
   },
   "source": [
    "## 4. Preprocesamiento"
   ]
  },
  {
   "cell_type": "markdown",
   "source": [
    "*Esta sección consiste en generar los distintos pasos para preparar sus datos con el fin de luego poder crear su modelo.*\n",
    "\n",
    "Dentro de los aspectos minimos que se les solicitarán en este desarrollo estan:\n",
    "\n",
    "- Definir preprocesadores para datos categóricos y ordinales.\n",
    "- Setear las transformaciones en un `ColumnTransformer`.\n",
    "- Transformar todo el datset.\n",
    "\n",
    "**Notas**:\n",
    "\n",
    "- Las variables `id` y `fraud_bool` no deben ser transformadas, pero si pasadas a la siguiente etapa. (Estudiar la transformación `passthrough`).\n",
    "- La salida de la transformación debe ser un pandas dataframe. Para esto, investiguen acerca de la nueva [`set_output` API](https://scikit-learn.org/stable/auto_examples/miscellaneous/plot_set_output.html). Si se levanta un error por matriz sparse, desactiven su uso en la transformación correspondiente."
   ],
   "metadata": {
    "collapsed": false,
    "pycharm": {
     "name": "#%% md\n"
    }
   }
  },
  {
   "attachments": {},
   "cell_type": "markdown",
   "id": "95c8cf73",
   "metadata": {
    "pycharm": {
     "name": "#%% md\n"
    }
   },
   "source": [
    "### 4.1 Declarar `ColumnTransformer`"
   ]
  },
  {
   "cell_type": "code",
   "execution_count": null,
   "id": "f1799cb4",
   "metadata": {
    "vscode": {
     "languageId": "plaintext"
    },
    "pycharm": {
     "name": "#%%\n"
    }
   },
   "outputs": [],
   "source": [
    "..."
   ]
  },
  {
   "attachments": {},
   "cell_type": "markdown",
   "id": "1a23ec24",
   "metadata": {
    "pycharm": {
     "name": "#%% md\n"
    }
   },
   "source": [
    "### 4.2 Transformar datos"
   ]
  },
  {
   "cell_type": "code",
   "execution_count": null,
   "id": "749ab504",
   "metadata": {
    "vscode": {
     "languageId": "plaintext"
    },
    "pycharm": {
     "name": "#%%\n"
    }
   },
   "outputs": [],
   "source": [
    "..."
   ]
  },
  {
   "attachments": {},
   "cell_type": "markdown",
   "id": "40b95e20-857d-4e29-8071-0071dfd3f62f",
   "metadata": {
    "pycharm": {
     "name": "#%% md\n"
    }
   },
   "source": [
    "## 5. Visualización en Baja Dimensionalidad"
   ]
  },
  {
   "cell_type": "markdown",
   "source": [
    "Programar un script para proyectar los datos en baja dimensionalidad usando `PCA` o `UMAP`.\n",
    "\n",
    "**Notas**:\n",
    "\n",
    "- Para realizar las proyecciones no consideren la variable `fraud_bool`, ya que esto provocaría un _data leakage_ (i.e., usar información del futuro para analizar el mismo fenómeno que quieren descubrir).\n",
    "- Utilice un muestreo significativo del dataframe (10k a 25k ejemplos) para generar las proyecciones. De lo contrario, probablemente el proyector no sea capaz de asignar todos los recursos necesarios y lance alguna excepción.\n",
    "\n",
    "Luego, por cada segmento etario generado en la sección 2, implemente un gráfico de dispersión (idealmente en plotly express) la proyección en 2D generada y coloree cada punto según la etiqueta `fraud_bool`.\n",
    "\n",
    "Reportar si existen patrones y/o relaciones interesantes con respecto a variables de interés."
   ],
   "metadata": {
    "collapsed": false,
    "pycharm": {
     "name": "#%% md\n"
    }
   }
  },
  {
   "attachments": {},
   "cell_type": "markdown",
   "id": "8f55ee74",
   "metadata": {
    "pycharm": {
     "name": "#%% md\n"
    }
   },
   "source": [
    "### 5.1 Muestrear dataframe"
   ]
  },
  {
   "cell_type": "code",
   "execution_count": null,
   "id": "b7e169dd",
   "metadata": {
    "vscode": {
     "languageId": "plaintext"
    },
    "pycharm": {
     "name": "#%%\n"
    }
   },
   "outputs": [],
   "source": [
    "..."
   ]
  },
  {
   "attachments": {},
   "cell_type": "markdown",
   "id": "a699143c",
   "metadata": {
    "pycharm": {
     "name": "#%% md\n"
    }
   },
   "source": [
    "### 5.2 Proyectar y agregar proyecciones al dataframe de muestreo"
   ]
  },
  {
   "cell_type": "code",
   "execution_count": null,
   "id": "bbbe5843",
   "metadata": {
    "vscode": {
     "languageId": "plaintext"
    },
    "pycharm": {
     "name": "#%%\n"
    }
   },
   "outputs": [],
   "source": [
    "..."
   ]
  },
  {
   "attachments": {},
   "cell_type": "markdown",
   "id": "491bdaf7",
   "metadata": {
    "pycharm": {
     "name": "#%% md\n"
    }
   },
   "source": [
    "### 5.3 Visualizar según rangos etarios"
   ]
  },
  {
   "cell_type": "code",
   "execution_count": null,
   "id": "d94ac394",
   "metadata": {
    "vscode": {
     "languageId": "plaintext"
    },
    "pycharm": {
     "name": "#%%\n"
    }
   },
   "outputs": [],
   "source": [
    "..."
   ]
  },
  {
   "attachments": {},
   "cell_type": "markdown",
   "id": "ca2ac9bc-c472-49d6-81fc-ccfd2a07b92e",
   "metadata": {
    "pycharm": {
     "name": "#%% md\n"
    }
   },
   "source": [
    "## 6. Anomalías"
   ]
  },
  {
   "cell_type": "markdown",
   "source": [
    "Proponer una técnica para detectar clientes fraudulentos en base a detección de anomalías.\n",
    "Al igual que el punto anterior, la técnica que proponga debe ser aplicada por separado en los diferentes segmentos etarios descritos en el punto 2 (es decir, debe entrenar un detector de anomalías para cada uno de estos grupos).\n",
    "\n",
    "Luego, al igual que el punto anterior, genere un gráfico de dispersión con las proyecciones 2D en donde el coloreado sea ahora las etiquetas predichas por el detector de anomalías.\n",
    "\n",
    "Por último, usando queries de numpy/pandas, calcule dos ratios (P y R):\n",
    "\n",
    "- P: Cantidad de ejemplos predichos correctamente como fraude / cantidad total de datos predichos como fraude.\n",
    "- R: Cantidad de ejemplos predichos correctamente como fraude / cantidad total de ejemplos que eran realmente fraude.\n",
    "\n",
    "\n",
    "De los resultados obtenidos responda las siguientes preguntas:\n",
    "\n",
    "- ¿Qué significan los ratios y sus valores?\n",
    "- ¿Qué tan correctas fueron las predicciones realizadas por su modelo según los ratios calculados?\n",
    "- ¿Son coherentes los resultados obtenidos?.\n",
    "- ¿Cómo se comportan los casos de fraudes para los diferentes rangos etarios?"
   ],
   "metadata": {
    "collapsed": false,
    "pycharm": {
     "name": "#%% md\n"
    }
   }
  },
  {
   "attachments": {},
   "cell_type": "markdown",
   "id": "723aa232",
   "metadata": {
    "pycharm": {
     "name": "#%% md\n"
    }
   },
   "source": [
    "### 6.1 Implementar detector de anomalías sobre dataframe de muestreo"
   ]
  },
  {
   "cell_type": "code",
   "execution_count": null,
   "id": "3bf5300b",
   "metadata": {
    "vscode": {
     "languageId": "plaintext"
    },
    "pycharm": {
     "name": "#%%\n"
    }
   },
   "outputs": [],
   "source": [
    "..."
   ]
  },
  {
   "attachments": {},
   "cell_type": "markdown",
   "id": "e9a26f75",
   "metadata": {
    "pycharm": {
     "name": "#%% md\n"
    }
   },
   "source": [
    "### 6.2 Agregar resultados a dataframe de muestreo"
   ]
  },
  {
   "cell_type": "code",
   "execution_count": null,
   "id": "ae3a3402",
   "metadata": {
    "vscode": {
     "languageId": "plaintext"
    },
    "pycharm": {
     "name": "#%%\n"
    }
   },
   "outputs": [],
   "source": [
    "..."
   ]
  },
  {
   "attachments": {},
   "cell_type": "markdown",
   "id": "31faab8b",
   "metadata": {
    "pycharm": {
     "name": "#%% md\n"
    }
   },
   "source": [
    "### 6.3 Visualizar según rangos etarios"
   ]
  },
  {
   "cell_type": "code",
   "execution_count": null,
   "id": "b9f67978",
   "metadata": {
    "vscode": {
     "languageId": "plaintext"
    },
    "pycharm": {
     "name": "#%%\n"
    }
   },
   "outputs": [],
   "source": [
    "..."
   ]
  },
  {
   "attachments": {},
   "cell_type": "markdown",
   "id": "61449e87",
   "metadata": {
    "pycharm": {
     "name": "#%% md\n"
    }
   },
   "source": [
    "### 6.4 Calcular ratios y responder"
   ]
  },
  {
   "cell_type": "code",
   "execution_count": null,
   "id": "fd07169f",
   "metadata": {
    "vscode": {
     "languageId": "plaintext"
    },
    "pycharm": {
     "name": "#%%\n"
    }
   },
   "outputs": [],
   "source": [
    "..."
   ]
  }
 ],
 "metadata": {
  "deepnote": {},
  "deepnote_execution_queue": [],
  "deepnote_notebook_id": "cd4ffb8b-90a0-4648-9d80-2b8c0eef5325",
  "kernelspec": {
   "display_name": "Python 3 (ipykernel)",
   "language": "python",
   "name": "python3"
  },
  "language_info": {
   "codemirror_mode": {
    "name": "ipython",
    "version": 3
   },
   "file_extension": ".py",
   "mimetype": "text/x-python",
   "name": "python",
   "nbconvert_exporter": "python",
   "pygments_lexer": "ipython3",
   "version": "3.10.9"
  }
 },
 "nbformat": 4,
 "nbformat_minor": 5
}