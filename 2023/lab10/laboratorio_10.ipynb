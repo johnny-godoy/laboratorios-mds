{
 "cells": [
  {
   "cell_type": "markdown",
   "metadata": {
    "id": "XUZ1dFPHzAHl",
    "cell_id": "6db569e7c5d04f9e9b48cb129df732fc",
    "deepnote_cell_type": "markdown"
   },
   "source": [
    "<h1><center>Laboratorio 10: Interpretabilidad 🤖</center></h1>\n",
    "\n",
    "<center><strong>MDS7202: Laboratorio de Programación Científica para Ciencia de Datos</strong></center>"
   ]
  },
  {
   "cell_type": "markdown",
   "metadata": {
    "id": "UD8X1uhGzAHq",
    "cell_id": "737a4540885f41acb34b9863a968b907",
    "deepnote_cell_type": "markdown"
   },
   "source": [
    "### Cuerpo Docente:\n",
    "\n",
    "- Profesor: Pablo Badilla y Ignacio Meza D.\n",
    "- Auxiliar: Sebastián Tinoco\n",
    "- Ayudante: Felipe Arias y Diego Cortez"
   ]
  },
  {
   "cell_type": "markdown",
   "metadata": {
    "id": "tXflExjqzAHr",
    "cell_id": "e4a6f26138654eb49ee963fb4c7ecf46",
    "deepnote_cell_type": "markdown"
   },
   "source": [
    "### Equipo: SUPER IMPORTANTE - notebooks sin nombre no serán revisados\n",
    "\n",
    "- Nombre de alumno 1: Johnny Godoy\n"
   ]
  },
  {
   "cell_type": "markdown",
   "metadata": {
    "id": "AD-V0bbZzAHr",
    "owner_user_id": "badcc427-fd3d-4615-9296-faa43ec69cfb",
    "cell_id": "7dd4aaebd4f44063aedbb47ea36349a5",
    "deepnote_cell_type": "markdown"
   },
   "source": [
    "### **Link de repositorio de GitHub:** `https://github.com/johnny-godoy/laboratorios-mds/blob/main/2023/lab10/laboratorio_10.ipynb`"
   ]
  },
  {
   "cell_type": "markdown",
   "metadata": {
    "id": "EcnsiQMkzAHr",
    "cell_id": "abe08e51696a471e8cc8ac1fa4216f0b",
    "deepnote_cell_type": "markdown"
   },
   "source": [
    "### Indice \n",
    "\n",
    "1. [Temas a tratar](#Temas-a-tratar:)\n",
    "3. [Descripcción del laboratorio](#Descripción-del-laboratorio.)\n",
    "4. [Desarrollo](#Desarrollo)"
   ]
  },
  {
   "cell_type": "markdown",
   "metadata": {
    "id": "6uBLPj1PzAHs",
    "cell_id": "0174e9377ebb43eaa0d12718db4c81ec",
    "deepnote_cell_type": "markdown"
   },
   "source": [
    "## Temas a tratar\n",
    "\n",
    "- Clasificación usando `XGBoost`.\n",
    "- Métodos Agnósticos Globales de Interpretabilidad (`Partial Dependence Plot`, `Permutation Feature Importance`)\n",
    "- Métodos Agnósticos Locales de Interpretabilidad (`Scoped Rules`, `SHAP`)\n",
    "\n",
    "## Reglas:\n",
    "\n",
    "- **Grupos de 2 personas**\n",
    "- Asistencia **obligatoria** a instrucciones del lab (viernes 16.15). Luego, pueden quedarse trabajando en las salas o irse.\n",
    "- **No se revisarán entregas de personas ausentes**. \n",
    "- Cualquier duda fuera del horario de clases al foro. Mensajes al equipo docente serán respondidos por este medio.\n",
    "- Prohibidas las copias. \n",
    "- Pueden usar cualquer matrial del curso que estimen conveniente.\n",
    "\n",
    "### Objetivos principales del laboratorio\n",
    "\n",
    "- Generar un pipeline de clasificación con `XGBoost`.\n",
    "- Implementar modelos de interpretabilidad para explicar el funcionamiento del modelo de clasificación.\n",
    "\n",
    "El laboratorio deberá ser desarrollado sin el uso indiscriminado de iteradores nativos de python (aka \"for\", \"while\"). La idea es que aprendan a exprimir al máximo las funciones optimizadas que nos entrega `pandas`, las cuales vale mencionar, son bastante más eficientes que los iteradores nativos sobre DataFrames."
   ]
  },
  {
   "cell_type": "markdown",
   "metadata": {
    "id": "xpOTbQcxbSiy",
    "cell_id": "e2c4f9b4097846b680f8d1c500aa49df",
    "deepnote_cell_type": "markdown"
   },
   "source": [
    "# 1. Problemas Clínicos del Dr. Simi"
   ]
  },
  {
   "cell_type": "markdown",
   "metadata": {
    "id": "3Q93vbNS25bM",
    "cell_id": "2911f2d6934f43fe8950320d84f3b031",
    "deepnote_cell_type": "markdown"
   },
   "source": [
    "<p align=\"center\">\n",
    "  <img src=\"https://gantz.cl/wp-content/uploads/2020/01/79024136_2718114448239059_7240913062570491904_o.jpg\" width=\"350\">\n",
    "</p>"
   ]
  },
  {
   "cell_type": "markdown",
   "metadata": {
    "cell_id": "2bb2213a347e4d55bfc8fea55068a88f",
    "deepnote_cell_type": "markdown"
   },
   "source": [
    "El reconocido **Dr. Simi**, famoso vendedor de medicamentos en latinoamerica, debido a la creciente prevalencia de enfermedades crónicas, como la diabetes, decidió abrir una clínica especializada en el tratamiento de esta enfermedad en nuestro país.\n",
    "\n",
    "La clínica del Doctor Simi se convirtió en un lugar donde los pacientes con diabetes podrían recibir atención médica integral. El personal médico estaba compuesto por especialistas en endocrinología, nutrición y enfermería, todos capacitados en el manejo de la diabetes.\n",
    "\n",
    "Sin embargo él se ha dado cuenta que los tiempos han cambiado y gracias a las tecnologías es posible generar mejores predicciones en la diabetes conociendo el historial médico de las personas. Por esto, el doctor se ha colocado una meta de incluir modelos de machine learning dentro de sus clínicas, para ello le ha solicitado crear un modelo capaz de predecir/clasificar diabetes pero le rogó que el desarrollo del modelo tuviera un especial enfoque en la interpretabilidad de lo que hace su modelo.\n",
    "\n",
    "Para que usted pueda entrenar el modelo, Dr. Simi le ha entregado un dataset de todos los clientes que fueron detectados con diabetes a lo largo de la historia de la clinica. Con ello, adjunta el historial médico de las personas en forma de datos tabulares para que usted pueda realizar fácilmente la clasificación.\n"
   ]
  },
  {
   "cell_type": "code",
   "execution_count": 1,
   "outputs": [],
   "source": [
    "import warnings\n",
    "\n",
    "import pandas as pd"
   ],
   "metadata": {
    "collapsed": false
   }
  },
  {
   "cell_type": "code",
   "metadata": {
    "id": "bED3w3tDbSCf",
    "source_hash": "fa5e6129",
    "executionInfo": {
     "user": {
      "userId": "17011121633069169364",
      "photoUrl": "",
      "displayName": "IGNACIO ALEJANDRO MEZA"
     },
     "status": "ok",
     "elapsed": 289,
     "user_tz": 240,
     "timestamp": 1625499009249
    },
    "execution_start": 1686884002582,
    "execution_millis": 294,
    "deepnote_to_be_reexecuted": false,
    "cell_id": "3252f09552814a80ac2d5e3cc67a1447",
    "deepnote_cell_type": "code"
   },
   "source": [
    "df = pd.read_csv(\"data/input/diabetes_data.csv\")\n",
    "df.head(4)"
   ],
   "execution_count": 2,
   "outputs": [
    {
     "data": {
      "text/plain": "    Age  Sex  HighChol  CholCheck   BMI  Smoker  HeartDiseaseorAttack  \\\n0   4.0  1.0       0.0        1.0  26.0     0.0                   0.0   \n1  12.0  1.0       1.0        1.0  26.0     1.0                   0.0   \n2  13.0  1.0       0.0        1.0  26.0     0.0                   0.0   \n3  11.0  1.0       1.0        1.0  28.0     1.0                   0.0   \n\n   PhysActivity  Fruits  Veggies  HvyAlcoholConsump  GenHlth  MentHlth  \\\n0           1.0     0.0      1.0                0.0      3.0       5.0   \n1           0.0     1.0      0.0                0.0      3.0       0.0   \n2           1.0     1.0      1.0                0.0      1.0       0.0   \n3           1.0     1.0      1.0                0.0      3.0       0.0   \n\n   PhysHlth  DiffWalk  Stroke  HighBP  Diabetes  \n0      30.0       0.0     0.0     1.0       0.0  \n1       0.0       0.0     1.0     1.0       0.0  \n2      10.0       0.0     0.0     0.0       0.0  \n3       3.0       0.0     0.0     1.0       0.0  ",
      "text/html": "<div>\n<style scoped>\n    .dataframe tbody tr th:only-of-type {\n        vertical-align: middle;\n    }\n\n    .dataframe tbody tr th {\n        vertical-align: top;\n    }\n\n    .dataframe thead th {\n        text-align: right;\n    }\n</style>\n<table border=\"1\" class=\"dataframe\">\n  <thead>\n    <tr style=\"text-align: right;\">\n      <th></th>\n      <th>Age</th>\n      <th>Sex</th>\n      <th>HighChol</th>\n      <th>CholCheck</th>\n      <th>BMI</th>\n      <th>Smoker</th>\n      <th>HeartDiseaseorAttack</th>\n      <th>PhysActivity</th>\n      <th>Fruits</th>\n      <th>Veggies</th>\n      <th>HvyAlcoholConsump</th>\n      <th>GenHlth</th>\n      <th>MentHlth</th>\n      <th>PhysHlth</th>\n      <th>DiffWalk</th>\n      <th>Stroke</th>\n      <th>HighBP</th>\n      <th>Diabetes</th>\n    </tr>\n  </thead>\n  <tbody>\n    <tr>\n      <th>0</th>\n      <td>4.0</td>\n      <td>1.0</td>\n      <td>0.0</td>\n      <td>1.0</td>\n      <td>26.0</td>\n      <td>0.0</td>\n      <td>0.0</td>\n      <td>1.0</td>\n      <td>0.0</td>\n      <td>1.0</td>\n      <td>0.0</td>\n      <td>3.0</td>\n      <td>5.0</td>\n      <td>30.0</td>\n      <td>0.0</td>\n      <td>0.0</td>\n      <td>1.0</td>\n      <td>0.0</td>\n    </tr>\n    <tr>\n      <th>1</th>\n      <td>12.0</td>\n      <td>1.0</td>\n      <td>1.0</td>\n      <td>1.0</td>\n      <td>26.0</td>\n      <td>1.0</td>\n      <td>0.0</td>\n      <td>0.0</td>\n      <td>1.0</td>\n      <td>0.0</td>\n      <td>0.0</td>\n      <td>3.0</td>\n      <td>0.0</td>\n      <td>0.0</td>\n      <td>0.0</td>\n      <td>1.0</td>\n      <td>1.0</td>\n      <td>0.0</td>\n    </tr>\n    <tr>\n      <th>2</th>\n      <td>13.0</td>\n      <td>1.0</td>\n      <td>0.0</td>\n      <td>1.0</td>\n      <td>26.0</td>\n      <td>0.0</td>\n      <td>0.0</td>\n      <td>1.0</td>\n      <td>1.0</td>\n      <td>1.0</td>\n      <td>0.0</td>\n      <td>1.0</td>\n      <td>0.0</td>\n      <td>10.0</td>\n      <td>0.0</td>\n      <td>0.0</td>\n      <td>0.0</td>\n      <td>0.0</td>\n    </tr>\n    <tr>\n      <th>3</th>\n      <td>11.0</td>\n      <td>1.0</td>\n      <td>1.0</td>\n      <td>1.0</td>\n      <td>28.0</td>\n      <td>1.0</td>\n      <td>0.0</td>\n      <td>1.0</td>\n      <td>1.0</td>\n      <td>1.0</td>\n      <td>0.0</td>\n      <td>3.0</td>\n      <td>0.0</td>\n      <td>3.0</td>\n      <td>0.0</td>\n      <td>0.0</td>\n      <td>1.0</td>\n      <td>0.0</td>\n    </tr>\n  </tbody>\n</table>\n</div>"
     },
     "execution_count": 2,
     "metadata": {},
     "output_type": "execute_result"
    }
   ]
  },
  {
   "cell_type": "markdown",
   "metadata": {
    "cell_id": "2fa50e56411a46858d61f2a42b715ee8",
    "deepnote_cell_type": "markdown"
   },
   "source": [
    "## 2. Clasificación de pacientes con diabetes (0.5 pt)\n",
    "\n",
    "<p align=\"center\">\n",
    "  <img src=\"https://media.tenor.com/QH--g3ZaSbsAAAAC/dr-simi-abrazo.gif\" width=\"400\">\n",
    "</p>"
   ]
  },
  {
   "cell_type": "markdown",
   "metadata": {
    "id": "jnmZfFpxTTYX",
    "cell_id": "d9f2091b610941f989e7720573424d8a",
    "deepnote_cell_type": "markdown"
   },
   "source": [
    "En primer lugar, el reconocido doctor le pide entrenar un modelo de `XGBoost` utilizando como target la columna `Diabetes` del dataset `diabetes_data.csv`. Para el entrenamiento tome en cuenta **todos** los pasos necesarios para entrenar un modelo de aprendizaje supervisado vistos hasta la fecha (use `Pipeline`, `ColumnTransformer`, etc.), comente sus decisiones y los resultados obtenidos con el modelo. ¿Es acaso un buen predictor de diabetes?, ¿Qué buscan explicar las métricas utilizadas?, ¿las métricas utilizadas para medir la predictibilidad le permiten asegurar que su modelo una buena elección de las features?."
   ]
  },
  {
   "cell_type": "code",
   "metadata": {
    "source_hash": "553ccab0",
    "execution_start": 1686930782578,
    "execution_millis": 50,
    "deepnote_to_be_reexecuted": false,
    "cell_id": "a928e00142bf45ee8d26207bab5a920d",
    "deepnote_cell_type": "code"
   },
   "source": [
    "# Inserte su código aquí"
   ],
   "execution_count": 3,
   "outputs": []
  },
  {
   "cell_type": "markdown",
   "metadata": {
    "cell_id": "58111a309a0c4aafb323c62c03b9b1d0",
    "deepnote_cell_type": "markdown"
   },
   "source": [
    "## 3. Importancia de las features con XGBoost (0.5 pt)\n",
    "\n",
    "<p align=\"center\">\n",
    "  <img src=\"https://media.tenor.com/5JAj5_IiagEAAAAd/dr-simi-dr-simi-dance.gif\" width=\"400\">\n",
    "</p>"
   ]
  },
  {
   "cell_type": "markdown",
   "metadata": {
    "cell_id": "5e0707b14bbd4ed7b4646cba8e7e53cc",
    "deepnote_cell_type": "markdown"
   },
   "source": [
    "Para añadir el toque de interpretabilidad que Dr. Simi le pide, se le pide calcular la **importancia de las features** del modelo entrenado utilizando todos los métodos que posee xgboost usando `plot_importance`. ¿Los resultados obtenidos con los diferentes métodos son compatibles?, comente sus resultados y a que se debe la igualdad o desigualdad que ve en los resultados. Finalmente, ¿las importancias obtenidas son suficientes para obtener la interpretabilidad de un modelo que utiliza árboles? ¿Qué debilidad presenta este método?"
   ]
  },
  {
   "cell_type": "code",
   "metadata": {
    "source_hash": "553ccab0",
    "execution_start": 1686930815998,
    "execution_millis": 2,
    "deepnote_to_be_reexecuted": false,
    "cell_id": "32be9645ac03408b98705d22def41265",
    "deepnote_cell_type": "code"
   },
   "source": [
    "# Inserte su código aquí"
   ],
   "execution_count": 4,
   "outputs": []
  },
  {
   "cell_type": "markdown",
   "metadata": {
    "cell_id": "37e42da05d404e6988e5cb213124d1a2",
    "deepnote_cell_type": "markdown"
   },
   "source": [
    "## 4. Métodos Agnósticos Globales (1 pt)\n",
    "\n",
    "<p align=\"center\">\n",
    "  <img src=\"https://media.tenor.com/JcRHtjVuXN8AAAAC/dr-simi-farmacias-similares.gif\" width=\"400\">\n",
    "</p>"
   ]
  },
  {
   "cell_type": "markdown",
   "metadata": {
    "cell_id": "2a5763d9e5744d4fb2a5b8c0478b67fd",
    "deepnote_cell_type": "markdown"
   },
   "source": [
    "Para mitigar los problemas encontrados en la sección anterior, Dr. Simi le pide implementar un **método de permutación** que le permita observar la importancia de las features. Visualice los resultados de este método en un gráfico. Para que su modelo sea consistente, repita el proceso **30 veces** y verifique la desviación estándar de sus resultados (¿Qué señala está?). Además, responda las siguientes preguntas:\n",
    "\n",
    "\n",
    "- ¿Cómo mide la importancia de las features su propuesta?\n",
    "- ¿Qué features tienen un mayor impacto en la salida del modelo?. Comente las 5 primeras, ¿Tienen sentido?\n",
    "- ¿Cómo cambian sus conclusiones con respecto a las features importances del punto anterior?\n",
    "- Nombre y explique 3 ventajas y 3 desventajas del método implementado."
   ]
  },
  {
   "cell_type": "code",
   "metadata": {
    "source_hash": "c8f2357f",
    "execution_start": 1686882223141,
    "execution_millis": 43036,
    "deepnote_to_be_reexecuted": false,
    "cell_id": "83032f5e2894423dbafa952e1d3f89cb",
    "deepnote_cell_type": "code"
   },
   "source": [
    "# Inserte su código aquí"
   ],
   "execution_count": 5,
   "outputs": []
  },
  {
   "cell_type": "markdown",
   "metadata": {
    "cell_id": "bd24642fe85143b9bcdae0607e0bb2f6",
    "deepnote_cell_type": "markdown"
   },
   "source": [
    "## 5. Métodos Agnósticos Locales (2 pt)\n",
    "\n",
    "<p align=\"center\">\n",
    "  <img src=\"https://i.makeagif.com/media/1-27-2017/fBrzT8.mp4\" width=\"400\">\n",
    "</p>"
   ]
  },
  {
   "cell_type": "markdown",
   "metadata": {
    "cell_id": "feffba3234c9428abbc9f7db957c5b64",
    "deepnote_cell_type": "markdown"
   },
   "source": [
    "### Parte A (0.4 pt)"
   ]
  },
  {
   "cell_type": "markdown",
   "metadata": {
    "cell_id": "3dd06a63b4b045c1ab3e51ac01e0fbc0",
    "deepnote_cell_type": "markdown"
   },
   "source": [
    "Alegre por saber cómo funciona el modelo de predicción a nivel general, Dr. Simi le pide ahora interpretar las predicciones de su modelo a nivel de paciente (es decir, desde un punto de vista **local**). Para esto, el ilustre farmacéutico le pide calcular los *shap values* de su modelo. ¿Qué representa cada número en su resultado? ¿Es posible atribuir un significado a la positividad/negatividad de cada valor?"
   ]
  },
  {
   "cell_type": "code",
   "metadata": {
    "source_hash": "7220fd12",
    "execution_start": 1686884837621,
    "execution_millis": 2,
    "deepnote_to_be_reexecuted": false,
    "cell_id": "c2d01e18bb9946579275006ac63f29f8",
    "deepnote_cell_type": "code"
   },
   "source": [
    "warnings.filterwarnings(\"ignore\", message=\".*The 'nopython' keyword.*\")"
   ],
   "execution_count": 7,
   "outputs": []
  },
  {
   "cell_type": "code",
   "metadata": {
    "source_hash": "7b093107",
    "execution_start": 1686930931899,
    "execution_millis": 3,
    "deepnote_to_be_reexecuted": false,
    "cell_id": "28773926243a4632adf4ebe7f9b23c86",
    "deepnote_cell_type": "code"
   },
   "source": [
    "# Inserte código para calcular shapley values aquí"
   ],
   "execution_count": 8,
   "outputs": []
  },
  {
   "cell_type": "markdown",
   "metadata": {
    "cell_id": "ca1ccbeae2b2444d925329e0fd1c7bff",
    "deepnote_cell_type": "markdown"
   },
   "source": [
    "### Parte B (0.4 pt)"
   ]
  },
  {
   "cell_type": "markdown",
   "metadata": {
    "cell_id": "d1bd38afb30a418dad4d5229826459a3",
    "deepnote_cell_type": "markdown"
   },
   "source": [
    "Usando los *shap values* calculados, grafique el **aporte** de las diferentes variables para las instancias **1**, **9** y **150**, interprete sus resultados y responda:\n",
    "- ¿Qué variables afectan de manera positiva/negativa a la probabilidad de poseer diabetes? \n",
    "- ¿Existe algún patrón común entre las instancias analizadas? \n",
    "- ¿Es posible generalizar estas conclusiones a todo el dataset?"
   ]
  },
  {
   "cell_type": "code",
   "metadata": {
    "source_hash": "5f8720eb",
    "execution_start": 1686930940135,
    "execution_millis": 2,
    "deepnote_to_be_reexecuted": false,
    "cell_id": "114ead8d9d674348a6eb462b83e54f0b",
    "deepnote_cell_type": "code"
   },
   "source": [
    "# Inserte código para generar gráficos de aporte local aquí"
   ],
   "execution_count": 9,
   "outputs": []
  },
  {
   "cell_type": "markdown",
   "metadata": {
    "cell_id": "717f41e3ccf143a483af4f350e510225",
    "deepnote_cell_type": "markdown"
   },
   "source": [
    "### Parte C (0.4 pt)"
   ]
  },
  {
   "cell_type": "markdown",
   "metadata": {
    "cell_id": "691dfe735fa644d5a8cac6e7053621ce",
    "deepnote_cell_type": "markdown"
   },
   "source": [
    "Genere ahora una visualización donde se grafique el aporte de cada feature a nivel **global** e interprete sus resultados. ¿Qué diferencias existen con las conclusiones generadas a nivel de instancia?"
   ]
  },
  {
   "cell_type": "code",
   "metadata": {
    "source_hash": "99e7a96a",
    "execution_start": 1686930956967,
    "execution_millis": 4,
    "deepnote_to_be_reexecuted": false,
    "cell_id": "54e88d349b7c476d82a95b977ce23fd4",
    "deepnote_cell_type": "code"
   },
   "source": [
    "# Inserte código para generar gráficos de aporte global aquí"
   ],
   "execution_count": 10,
   "outputs": []
  },
  {
   "cell_type": "markdown",
   "metadata": {
    "cell_id": "8c6e3e238a6c48719cd048ce9e5201d5",
    "deepnote_cell_type": "markdown"
   },
   "source": [
    "### Parte D (0.4 pt)"
   ]
  },
  {
   "cell_type": "markdown",
   "metadata": {
    "cell_id": "4cfe79b39ac646658225180063391369",
    "deepnote_cell_type": "markdown"
   },
   "source": [
    "Grafique ahora un *scatterplot* entre los *shap values* y las primeras 5 features con mayor impacto global (un gráfico por cada feature), coloreando cada punto por la probabilidad de tener diabetes. ¿Qué puede concluir de sus resultados?"
   ]
  },
  {
   "cell_type": "code",
   "metadata": {
    "source_hash": "80c98595",
    "execution_start": 1686930965534,
    "execution_millis": 2,
    "deepnote_to_be_reexecuted": false,
    "cell_id": "fe980bf5ee9c4cda84cb87db6e6f41dd",
    "deepnote_cell_type": "code"
   },
   "source": [
    "# Inserte código para generar gráficos de feature vs shap value aquí"
   ],
   "execution_count": 11,
   "outputs": []
  },
  {
   "cell_type": "markdown",
   "metadata": {
    "cell_id": "4204ce61132f4a91b465bd1324668ec4",
    "deepnote_cell_type": "markdown"
   },
   "source": [
    "### Parte E (0.4 pt)"
   ]
  },
  {
   "cell_type": "markdown",
   "metadata": {
    "cell_id": "6b8d9852882144569a4f663594bed705",
    "deepnote_cell_type": "markdown"
   },
   "source": [
    "Finalmente, se le pide generar un gráfico del tipo **Partial Dependence Plot** para las mismas 5 variables con mayor impacto global usando una submuestra de **1000 observaciones**. ¿Qué relación existe entre la salida promedio del modelo y cada feature analizada? ¿Son estas conclusiones generalizables para todo el conjunto de datos?"
   ]
  },
  {
   "cell_type": "code",
   "metadata": {
    "source_hash": "4e0f176b",
    "execution_start": 1686930977674,
    "execution_millis": 4,
    "deepnote_to_be_reexecuted": false,
    "cell_id": "fe7a7b2e6f664d129fee9f64dd57f6bd",
    "deepnote_cell_type": "code"
   },
   "source": [
    "# Inserte código para generar gráficos PDP aquí"
   ],
   "execution_count": 12,
   "outputs": []
  },
  {
   "cell_type": "markdown",
   "metadata": {
    "id": "i4tFPrFA4_O5",
    "cell_id": "22e4da384e83491e8e7c8dc9b875ad6b",
    "deepnote_cell_type": "markdown"
   },
   "source": [
    "## 6. Sistema de Reglas! (1 pt)\n",
    "\n",
    "<p align=\"center\">\n",
    "  <img src=\"https://media.baamboozle.com/uploads/images/125978/1638281150_1380186_gif-url.gif\" width=\"400\">\n",
    "</p>"
   ]
  },
  {
   "cell_type": "markdown",
   "metadata": {
    "id": "f_4NF0_V5XZ-",
    "cell_id": "cbf4bdc66df14a948ee275be86501d4a",
    "deepnote_cell_type": "markdown"
   },
   "source": [
    "Después de todo el trabajo hecho, Dr. Simi le pide simplificar el funcionamiento de su modelo en un sistema de reglas que le permita explicar a sus clientes las predicciones que genera su modelo. En particular, Dr. Simi le pide explicar la decisión tomada para las observaciones **1000**, **3001** y **5751**. Con las reglas propuestas señale a **cuánta población** es posible explicar con estas reglas e indique la **precisión** que poseen las reglas en la totalidad de los datos. ¿Tienen sentido sus reglas propuestas para las observaciones?. Fundamente sus respuesta señalando el impacto que tienen sus reglas sobre todo el conjunto de datos."
   ]
  },
  {
   "cell_type": "code",
   "metadata": {
    "source_hash": "51992da3",
    "execution_start": 1686931515362,
    "execution_millis": 76,
    "deepnote_to_be_reexecuted": false,
    "cell_id": "c51b7d6bfea74288b77cb73ba8c86978",
    "deepnote_cell_type": "code"
   },
   "source": [
    "# Inserte su código para generar sistema de reglas aquí\n",
    "\n",
    "idx = 1000\n",
    "# explicar predicción idx 1000\n",
    "\n",
    "idx = 3001\n",
    "# explicar predicción idx 3001\n",
    "\n",
    "idx = 5751\n",
    "# explicar predicción idx 5751"
   ],
   "execution_count": 13,
   "outputs": []
  },
  {
   "cell_type": "markdown",
   "metadata": {
    "cell_id": "b358083895d844bbafee6969082e98db",
    "deepnote_cell_type": "markdown"
   },
   "source": [
    "# Retrospectiva... (1 pt)"
   ]
  },
  {
   "cell_type": "markdown",
   "metadata": {
    "cell_id": "1db767e048bd4bf2bc86d9c49acc0c36",
    "deepnote_cell_type": "markdown"
   },
   "source": [
    "En base a los diferentes métodos que implementa y ha comentado en este laboratorio, comente qué métodos le permiten entregar mejores conclusiones para la tarea de clasificación de diabetes. Por otro lado, ¿qué métodos son más útiles para el problema del doctor Simi, métodos agnosticos locales o globales?"
   ]
  },
  {
   "cell_type": "markdown",
   "metadata": {
    "cell_id": "c841a2af491648f591108c7483afc66f",
    "deepnote_cell_type": "markdown"
   },
   "source": [
    "> Fundamente su Respuesta aquí"
   ]
  },
  {
   "cell_type": "markdown",
   "metadata": {
    "cell_id": "ad6f278e9e12463dbdde6a009cd0b97a",
    "deepnote_cell_type": "markdown"
   },
   "source": [
    "# Conclusión\n",
    "Eso ha sido todo para el lab de hoy, recuerden que el laboratorio tiene un plazo de entrega de una semana. Cualquier duda del laboratorio, no duden en contactarnos por mail o U-cursos.\n",
    "\n",
    "![Gracias Totales!](https://media.tenor.com/ctnq4bhZE3gAAAAC/drsimi-simi.gif)"
   ]
  },
  {
   "cell_type": "markdown",
   "source": [
    "<a style='text-decoration:none;line-height:16px;display:flex;color:#5B5B62;padding:10px;justify-content:end;' href='https://deepnote.com?utm_source=created-in-deepnote-cell&projectId=87110296-876e-426f-b91d-aaf681223468' target=\"_blank\">\n",
    "<img alt='Created in deepnote.com' style='display:inline;max-height:16px;margin:0px;margin-right:7.5px;' src='data:image/svg+xml;base64,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' > </img>\n",
    "Created in <span style='font-weight:600;margin-left:4px;'>Deepnote</span></a>"
   ],
   "metadata": {
    "created_in_deepnote_cell": true,
    "deepnote_cell_type": "markdown"
   }
  },
  {
   "cell_type": "code",
   "execution_count": null,
   "outputs": [],
   "source": [],
   "metadata": {
    "collapsed": false
   }
  }
 ],
 "nbformat": 4,
 "nbformat_minor": 0,
 "metadata": {
  "toc": {
   "sideBar": true,
   "nav_menu": {},
   "toc_cell": false,
   "title_cell": "Tabla de Contenidos",
   "toc_position": {
    "top": "150px",
    "left": "10px",
    "width": "241.867px",
    "height": "calc(100% - 180px)"
   },
   "skip_h1_title": true,
   "title_sidebar": "Contenidos",
   "base_numbering": 1,
   "number_sections": true,
   "toc_window_display": true,
   "toc_section_display": true
  },
  "colab": {
   "name": "Laboratorio4.ipynb",
   "provenance": [],
   "toc_visible": true,
   "collapsed_sections": [
    "LCOUC4jss148",
    "GtG74Cphq56p"
   ]
  },
  "deepnote": {},
  "kernelspec": {
   "name": "python3",
   "language": "python",
   "display_name": "Python 3"
  },
  "varInspector": {
   "cols": {
    "lenVar": 40,
    "lenName": 16,
    "lenType": 16
   },
   "kernels_config": {
    "r": {
     "library": "var_list.r",
     "varRefreshCmd": "cat(var_dic_list()) ",
     "delete_cmd_prefix": "rm(",
     "delete_cmd_postfix": ") "
    },
    "python": {
     "library": "var_list.py",
     "varRefreshCmd": "print(var_dic_list())",
     "delete_cmd_prefix": "del ",
     "delete_cmd_postfix": ""
    }
   },
   "window_display": false,
   "types_to_exclude": [
    "module",
    "function",
    "builtin_function_or_method",
    "instance",
    "_Feature"
   ]
  },
  "language_info": {
   "name": "python",
   "version": "3.8.3",
   "mimetype": "text/x-python",
   "file_extension": ".py",
   "pygments_lexer": "ipython3",
   "codemirror_mode": {
    "name": "ipython",
    "version": 3
   },
   "nbconvert_exporter": "python"
  },
  "deepnote_notebook_id": "0afd011ae5da4596ac4144fb27adc429",
  "deepnote_execution_queue": [],
  "deepnote_persisted_session": {
   "createdAt": "2023-06-16T16:30:21.663Z"
  }
 }
}
