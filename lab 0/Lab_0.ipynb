{
  "cells": [
    {
      "cell_type": "markdown",
      "metadata": {
        "cell_id": "4d7d5ac6-d4e1-4609-9a3f-d6649322fa97",
        "deepnote_cell_height": 105.390625,
        "deepnote_cell_type": "markdown",
        "id": "FZACRxNvqgNm"
      },
      "source": [
        "<h1><center>Laboratorio 0: Practicando en Python </center></h1>\n",
        "\n",
        "<center><strong>MDS7202: Laboratorio de Programación Científica para Ciencia de Datos - Primavera 2021</strong></center>\n",
        "\n",
        "---"
      ],
      "id": "FZACRxNvqgNm"
    },
    {
      "cell_type": "markdown",
      "metadata": {
        "cell_id": "7ebd312b195c4d02a21a0af750fa5474",
        "deepnote_cell_height": 591.1875,
        "deepnote_cell_type": "markdown",
        "tags": [],
        "id": "NHglHW7fqgNo"
      },
      "source": [
        "<center> <img src=https://miro.medium.com/max/1388/1*v6CPVlDCr5kdIpj7O6D7VA.gif width=400/> </center>\n",
        "\n",
        "### Cuerpo Docente:\n",
        "\n",
        "- Profesor: Matías Rojas y Mauricio Araneda\n",
        "- Auxiliar: Ignacio Meza D.\n",
        "- Ayudante: Rodrigo Guerra\n",
        "\n",
        "### Objetivos del lab: \n",
        "\n",
        "- El objetivo de este lab es que ustedes puedan practicar con el lenguaje de python, aplicando los conocimientos vistos hasta ahora en el curso. La realización de este laboratorio es completamente opcional."
      ],
      "id": "NHglHW7fqgNo"
    },
    {
      "cell_type": "markdown",
      "metadata": {
        "cell_id": "00006-0087f4d5-bcba-4dc5-ad6a-083b239f86d5",
        "deepnote_cell_height": 108.390625,
        "deepnote_cell_type": "markdown",
        "id": "6XIW0nqKqgNp"
      },
      "source": [
        "## Problemas con Listas y Strings 💻\n",
        "\n",
        "Por cada uno de estos problemas, elabore una **función** que los resuelva:"
      ],
      "id": "6XIW0nqKqgNp"
    },
    {
      "cell_type": "markdown",
      "metadata": {
        "cell_id": "00007-d00af88a-bb30-4b80-961f-6798fd8f25e1",
        "deepnote_cell_height": 384.3125,
        "deepnote_cell_type": "markdown",
        "id": "rGsx5XGsqgNp"
      },
      "source": [
        "### Pregunta 1 \n",
        "\n",
        "Dada una lista de $n$ elementos, no necesariamente ordenada, defina funciones que busquen:\n",
        "- El elemento menor.\n",
        "- El elemento mayor.\n",
        "- El promedio de los elementos en la lista.\n",
        "\n",
        "Ejemplo:\n",
        "```python\n",
        "listaN = [12,4,34,1,2,52,1,54,98,5,235,76,57,87,123,32,32]\n",
        "menor = 1\n",
        "mayor = 235\n",
        "```\n",
        "\n",
        "Además, implemente un par de test que verifiquen la correctitud de las funciones.\n",
        "\n",
        "**Nota**: Idealmente se hacen tests sobre los casos bordes. ¿Qué casos bordes tendríamos aquí?\n"
      ],
      "id": "rGsx5XGsqgNp"
    },
    {
      "cell_type": "code",
      "source": [
        "from __future__ import annotations"
      ],
      "metadata": {
        "id": "6A0KMEpWM8kt"
      },
      "id": "6A0KMEpWM8kt",
      "execution_count": 1,
      "outputs": []
    },
    {
      "cell_type": "code",
      "source": [
        "def menor_elemento(lista: list[int]) -> int|float:\n",
        "    \"\"\"Entrega el menor elemento de la lista de enteros.\n",
        "    Si la lista es vacía, se retorna un float infinito.\"\"\"\n",
        "    menor_elemento_visto = float(\"inf\")  # OBS: Python no implementa un int infinito,\n",
        "                                         # por lo cual debemos retornar un float\n",
        "    for elemento in lista:\n",
        "        if elemento < menor_elemento_visto:\n",
        "            menor_elemento_visto = elemento\n",
        "    return menor_elemento_visto\n",
        "\n",
        "\n",
        "def mayor_elemento(lista: list[int]) -> int|float:\n",
        "    \"\"\"Entrega el mayor elemento de la lista de enteros.\n",
        "    Si la lista es vacía, se retorna un float infinito negativo.\"\"\"\n",
        "    return -menor_elemento([-elemento for elemento in lista])\n",
        "\n",
        "\n",
        "def promedio(lista: list[int]) -> float:\n",
        "    \"\"\"Entrega el promedio de una lista de enteros.\n",
        "    Si la lista es vacía, levanta un ZeroDivisionError.\"\"\"\n",
        "    try:\n",
        "        return sum(lista)/len(lista)\n",
        "    except ZeroDivisionError:\n",
        "        raise ZeroDivisionError(\"Promedio de una lista vacía está indefinido\")"
      ],
      "metadata": {
        "id": "9cw89K4VsTVB"
      },
      "id": "9cw89K4VsTVB",
      "execution_count": 2,
      "outputs": []
    },
    {
      "cell_type": "code",
      "source": [
        "def imprimir_resultados_parte_1(lista: list[int]) -> None:\n",
        "    \"\"\"Imprime el menor, mayor y promedio de los elementos de la lista.\"\"\"\n",
        "    print(f\"lista: {lista}\")\n",
        "    print(f\"menor elemento: {menor_elemento(lista)}\")\n",
        "    print(f\"mayor elemento: {mayor_elemento(lista)}\")\n",
        "    try:\n",
        "        print(f\"promedio: {promedio(lista)}\")\n",
        "    except Exception as e:\n",
        "        print(f\"promedio levanta excepción: {e}\")"
      ],
      "metadata": {
        "id": "WYA5j-SCVR4W"
      },
      "id": "WYA5j-SCVR4W",
      "execution_count": 3,
      "outputs": []
    },
    {
      "cell_type": "code",
      "source": [
        "listaN = [12,4,34,1,2,52,1,54,98,5,235,76,57,87,123,32,32]\n",
        "imprimir_resultados_parte_1(listaN)"
      ],
      "metadata": {
        "colab": {
          "base_uri": "https://localhost:8080/"
        },
        "id": "88d6W-sNNyzT",
        "outputId": "2fc2e944-8b6b-45e1-c499-3e3f22169be7"
      },
      "id": "88d6W-sNNyzT",
      "execution_count": 4,
      "outputs": [
        {
          "output_type": "stream",
          "name": "stdout",
          "text": [
            "lista: [12, 4, 34, 1, 2, 52, 1, 54, 98, 5, 235, 76, 57, 87, 123, 32, 32]\n",
            "menor elemento: 1\n",
            "mayor elemento: 235\n",
            "promedio: 53.23529411764706\n"
          ]
        }
      ]
    },
    {
      "cell_type": "code",
      "source": [
        "imprimir_resultados_parte_1([])"
      ],
      "metadata": {
        "colab": {
          "base_uri": "https://localhost:8080/"
        },
        "id": "Ce0TjoUTN_K3",
        "outputId": "5174aa0a-3630-480b-b414-3f62686a8095"
      },
      "id": "Ce0TjoUTN_K3",
      "execution_count": 5,
      "outputs": [
        {
          "output_type": "stream",
          "name": "stdout",
          "text": [
            "lista: []\n",
            "menor elemento: inf\n",
            "mayor elemento: -inf\n",
            "promedio levanta excepción: Promedio de una lista vacía está indefinido\n"
          ]
        }
      ]
    },
    {
      "cell_type": "code",
      "source": [
        "imprimir_resultados_parte_1([0])"
      ],
      "metadata": {
        "colab": {
          "base_uri": "https://localhost:8080/"
        },
        "id": "Or6S4c0UugYF",
        "outputId": "d643e22d-7b81-4e54-bb51-808b447fac49"
      },
      "id": "Or6S4c0UugYF",
      "execution_count": 52,
      "outputs": [
        {
          "output_type": "stream",
          "name": "stdout",
          "text": [
            "lista: [0]\n",
            "menor elemento: 0\n",
            "mayor elemento: 0\n",
            "promedio: 0.0\n"
          ]
        }
      ]
    },
    {
      "cell_type": "markdown",
      "metadata": {
        "cell_id": "00011-9485688f-4549-4db1-b6e3-b5c8fd44ec75",
        "deepnote_cell_height": 179.1875,
        "deepnote_cell_type": "markdown",
        "id": "HcysjGw9qgNq"
      },
      "source": [
        "### Pregunta 2\n",
        "\n",
        " Dada una lista de n números, no ordenados, genere una función que ordene la lista de mayor a menor.\n",
        "\n",
        " ```python\n",
        "def ordenar(lista):\n",
        "    pass\n",
        " ```"
      ],
      "id": "HcysjGw9qgNq"
    },
    {
      "cell_type": "code",
      "execution_count": 53,
      "metadata": {
        "cell_id": "f7dd50193057462eb733ee0ce9d3ba27",
        "deepnote_cell_height": 66,
        "deepnote_cell_type": "code",
        "tags": [],
        "id": "AnEOohLoqgNr"
      },
      "outputs": [],
      "source": [
        "def ordenar(lista: list[int]) -> None:\n",
        "    \"\"\"Ordena la lista de enteros descendentemente.\"\"\"\n",
        "    copy = lista.copy()\n",
        "    for i, _ in enumerate(lista):\n",
        "        lista[i] = copy.pop(copy.index(max(copy)))\n",
        "\n",
        "\n",
        "def imprimir_resultados_parte_2(lista: list[int]):\n",
        "    copia = lista.copy()\n",
        "    print(f\"Lista original: {copia}\")\n",
        "    ordenar(copia)\n",
        "    print(f\"Lista ordenada de mayor a menor: {copia}\")"
      ],
      "id": "AnEOohLoqgNr"
    },
    {
      "cell_type": "code",
      "source": [
        "listaN = [12,4,34,1,2,52,1,54,98,5,235,76,57,87,123,32,32]\n",
        "imprimir_resultados_parte_2(listaN)"
      ],
      "metadata": {
        "colab": {
          "base_uri": "https://localhost:8080/"
        },
        "id": "lFBOIdsTeLvK",
        "outputId": "301bd7e4-3850-4430-a6e2-1ba124abadf4"
      },
      "id": "lFBOIdsTeLvK",
      "execution_count": 54,
      "outputs": [
        {
          "output_type": "stream",
          "name": "stdout",
          "text": [
            "Lista original: [12, 4, 34, 1, 2, 52, 1, 54, 98, 5, 235, 76, 57, 87, 123, 32, 32]\n",
            "Lista ordenada de mayor a menor: [235, 123, 98, 87, 76, 57, 54, 52, 34, 32, 32, 12, 5, 4, 2, 1, 1]\n"
          ]
        }
      ]
    },
    {
      "cell_type": "markdown",
      "metadata": {
        "cell_id": "00016-09c4e927-f62b-46c9-b2cd-f63211833e75",
        "deepnote_cell_height": 100.390625,
        "deepnote_cell_type": "markdown",
        "id": "qQYk8KlEqgNr"
      },
      "source": [
        "### Pregunta 3\n",
        "Genere una función que obtenga la moda de una lista usando diccionarios."
      ],
      "id": "qQYk8KlEqgNr"
    },
    {
      "cell_type": "code",
      "execution_count": 55,
      "metadata": {
        "cell_id": "e860ad8fe0624f06ad77c66c71098b06",
        "deepnote_cell_height": 66,
        "deepnote_cell_type": "code",
        "tags": [],
        "id": "rzRE68vYqgNs"
      },
      "outputs": [],
      "source": [
        "def diccionario_frecuencias(lista: list) -> dict:\n",
        "    \"\"\"Entrega un diccionario que asocia cada elemento de la lista a su frecuencia.\"\"\"\n",
        "    return {valor: len([elemento for elemento in lista if elemento == valor])\n",
        "                   for valor in lista}\n",
        "\n",
        "\n",
        "def moda(lista: list):\n",
        "    \"\"\"Entrega la moda de la lista, buscándo la llave del valor máximo del diccionario de frecuencias.\"\"\"\n",
        "    return max(diccionario_frecuencias(lista).items(), key=lambda x: x[1])[0]\n",
        "\n",
        "\n",
        "def imprimir_resultados_parte_3(lista: list):\n",
        "    print(f\"Lista: {lista}\")\n",
        "    print(f\"Frecuencias de cada elemento de la lista: {diccionario_frecuencias(lista)}\")\n",
        "    print(f\"Moda de la lista: {moda(lista)}\")"
      ],
      "id": "rzRE68vYqgNs"
    },
    {
      "cell_type": "code",
      "source": [
        "imprimir_resultados_parte_3(listaN)"
      ],
      "metadata": {
        "colab": {
          "base_uri": "https://localhost:8080/"
        },
        "id": "CfolCQ5FgULE",
        "outputId": "e8877ed4-1b59-48b3-be4d-5851e65f9508"
      },
      "id": "CfolCQ5FgULE",
      "execution_count": 56,
      "outputs": [
        {
          "output_type": "stream",
          "name": "stdout",
          "text": [
            "Lista: [12, 4, 34, 1, 2, 52, 1, 54, 98, 5, 235, 76, 57, 87, 123, 32, 32]\n",
            "Frecuencias de cada elemento de la lista: {12: 1, 4: 1, 34: 1, 1: 2, 2: 1, 52: 1, 54: 1, 98: 1, 5: 1, 235: 1, 76: 1, 57: 1, 87: 1, 123: 1, 32: 2}\n",
            "Moda de la lista: 1\n"
          ]
        }
      ]
    },
    {
      "cell_type": "markdown",
      "source": [
        "Notar que la lista era bimodal, pero retornamos solamente una de sus modas."
      ],
      "metadata": {
        "id": "XsYgjNuqgj09"
      },
      "id": "XsYgjNuqgj09"
    },
    {
      "cell_type": "markdown",
      "metadata": {
        "cell_id": "00028-98d28c67-5f56-4fb1-8148-2f35aefd6f48",
        "deepnote_cell_height": 122.796875,
        "deepnote_cell_type": "markdown",
        "id": "h38_ZsLXqgNs"
      },
      "source": [
        "### Pregunta 4\n",
        "Vea si un número es palíndromo o no. Los números palíndromos son aquellos que al leerlos al revés y al derecho son iguales, por ejemplo el 123321 o el 98789."
      ],
      "id": "h38_ZsLXqgNs"
    },
    {
      "cell_type": "code",
      "execution_count": 33,
      "metadata": {
        "cell_id": "de690768e87a4e49a9e072db5f50745c",
        "deepnote_cell_height": 66,
        "deepnote_cell_type": "code",
        "tags": [],
        "id": "3wQRQfWXqgNs"
      },
      "outputs": [],
      "source": [
        "def es_palindromo(numero: int) -> bool:\n",
        "    \"\"\"Indica si un número es palíndromo o no.\"\"\"\n",
        "    as_str = str(numero)\n",
        "    return as_str == as_str[::-1]\n",
        "\n",
        "\n",
        "def imprimir_resultados_parte_4(numero: int):\n",
        "    print(f\"¿Es {numero} palíndromo?: {es_palindromo(numero)}\")"
      ],
      "id": "3wQRQfWXqgNs"
    },
    {
      "cell_type": "code",
      "source": [
        "imprimir_resultados_parte_4(123321)\n",
        "imprimir_resultados_parte_4(98789)\n",
        "imprimir_resultados_parte_4(564135)\n",
        "imprimir_resultados_parte_4(2020)\n",
        "imprimir_resultados_parte_4(123)\n",
        "imprimir_resultados_parte_4(202)"
      ],
      "metadata": {
        "colab": {
          "base_uri": "https://localhost:8080/"
        },
        "id": "oNoxZP95fn0U",
        "outputId": "aca66d79-ad34-41ee-ffdb-a67ece2767c0"
      },
      "id": "oNoxZP95fn0U",
      "execution_count": 59,
      "outputs": [
        {
          "output_type": "stream",
          "name": "stdout",
          "text": [
            "¿Es 123321 palíndromo?: True\n",
            "¿Es 98789 palíndromo?: True\n",
            "¿Es 564135 palíndromo?: False\n",
            "¿Es 2020 palíndromo?: False\n",
            "¿Es 123 palíndromo?: False\n",
            "¿Es 202 palíndromo?: True\n"
          ]
        }
      ]
    },
    {
      "cell_type": "markdown",
      "metadata": {
        "cell_id": "00030-ac36b7b1-db34-4043-bf9c-feaaa8f85e0b",
        "deepnote_cell_height": 196.796875,
        "deepnote_cell_type": "markdown",
        "id": "3h0kuqBCqgNt"
      },
      "source": [
        "### Pregunta 5\n",
        "Dado un texto, conviértalo en estilo Camel Case, vea el siguiente ejemplo:\n",
        "\n",
        "    Texto inicial: “Este es un texto de ejemplo para mostrar el Camel Case”.\n",
        "\n",
        "    Texto final: “EsteEsUnTextoDeEjemploParaMostrarElCamelCase”."
      ],
      "id": "3h0kuqBCqgNt"
    },
    {
      "cell_type": "code",
      "execution_count": 60,
      "metadata": {
        "cell_id": "9d672ec452da4abcba3c86d499d3feff",
        "deepnote_cell_height": 66,
        "deepnote_cell_type": "code",
        "tags": [],
        "id": "TLswuK9vqgNt"
      },
      "outputs": [],
      "source": [
        "def convertir_a_camel_case(texto: str) -> str:\n",
        "    \"\"\"Dado un texto, retorna su representación en Camel Case.\"\"\"\n",
        "    return \"\".join(map(str.title, texto.split(\" \")))\n",
        "\n",
        "\n",
        "def imprimir_resultados_parte_5(text: str):\n",
        "    print(f\"Texto inicial: {text}\")\n",
        "    print(f\"Texto final: {convertir_a_camel_case(text)}\")"
      ],
      "id": "TLswuK9vqgNt"
    },
    {
      "cell_type": "code",
      "source": [
        "texto_inicial = \"Este es un texto de ejemplo para mostrar el Camel Case\"\n",
        "imprimir_resultados_parte_5(texto_inicial)"
      ],
      "metadata": {
        "colab": {
          "base_uri": "https://localhost:8080/"
        },
        "id": "W5deD7kViGdV",
        "outputId": "f25ca2f7-f54c-452b-e7dd-73398561f599"
      },
      "id": "W5deD7kViGdV",
      "execution_count": 61,
      "outputs": [
        {
          "output_type": "stream",
          "name": "stdout",
          "text": [
            "Texto inicial: Este es un texto de ejemplo para mostrar el Camel Case\n",
            "Texto final: EsteEsUnTextoDeEjemploParaMostrarElCamelCase\n"
          ]
        }
      ]
    },
    {
      "cell_type": "markdown",
      "metadata": {
        "cell_id": "00041-b204b57b-6110-4cf1-9216-de17ab3070c5",
        "deepnote_cell_height": 233.1875,
        "deepnote_cell_type": "markdown",
        "id": "S125xPdtqgNt"
      },
      "source": [
        "### Pregunta 6\n",
        "Dado un texto y una letra indique cuantas veces se repite la letra dentro del texto, vea el\n",
        "siguiente ejemplo:\n",
        "\n",
        "Texto inicial: “Este es un texto de ejemplo para contar la cantidad de veces que aparece cierta letra”.\n",
        "\n",
        "    Letra a buscar: e\n",
        "    Respuesta: “La letra e aparece 15 veces.\n",
        "    Observación: Las mayúsculas y minúsculas deben ser contadas."
      ],
      "id": "S125xPdtqgNt"
    },
    {
      "cell_type": "code",
      "source": [
        "def imprimir_frecuencia_caracter(texto: str, caracter: str):\n",
        "    \"\"\"Dado un texto y un caracter, imprime la cantidad de veces que aparece esta letra dentro del texto.\"\"\"\n",
        "    frecuencias = diccionario_frecuencias(list(texto.lower()))\n",
        "    print(f\"La letra {caracter} aparece {frecuencias.get(caracter.lower(), 0)} veces\")"
      ],
      "metadata": {
        "id": "A9R7ABJirHjy"
      },
      "id": "A9R7ABJirHjy",
      "execution_count": 62,
      "outputs": []
    },
    {
      "cell_type": "code",
      "source": [
        "texto = \"Este es un texto de ejemplo para contar la cantidad de veces que aparece cierta letra\"\n",
        "imprimir_frecuencia_caracter(texto, \"e\")\n",
        "imprimir_frecuencia_caracter(texto, \"z\")"
      ],
      "metadata": {
        "colab": {
          "base_uri": "https://localhost:8080/"
        },
        "id": "5oPJJD3mr-y3",
        "outputId": "2a087c3d-229e-4a0f-fdfd-c402d9c485aa"
      },
      "id": "5oPJJD3mr-y3",
      "execution_count": 63,
      "outputs": [
        {
          "output_type": "stream",
          "name": "stdout",
          "text": [
            "La letra e aparece 15 veces\n",
            "La letra z aparece 0 veces\n"
          ]
        }
      ]
    },
    {
      "cell_type": "markdown",
      "metadata": {
        "cell_id": "00043-c0c39f34-ca5b-48db-971d-aca44dd15e4b",
        "deepnote_cell_height": 144.796875,
        "deepnote_cell_type": "markdown",
        "id": "ZO9HhOJIqgNt"
      },
      "source": [
        "## Problemas Varios 🤩\n",
        "\n",
        "A continuación se presentan diferentes problemas, elabore una **función** que los resuelva. \n",
        "\n",
        "**Nota:** A diferencia de la primera parte, en esta sección puede aplicar todos sus conocimientos para el desarrollo de las funciones."
      ],
      "id": "ZO9HhOJIqgNt"
    },
    {
      "cell_type": "markdown",
      "metadata": {
        "ExecuteTime": {
          "end_time": "2021-03-26T14:14:35.180438Z",
          "start_time": "2021-03-26T14:14:35.175467Z"
        },
        "cell_id": "00044-21224815-9eb6-4ed5-830c-0a1aed7866f0",
        "deepnote_cell_height": 463.8125,
        "deepnote_cell_type": "markdown",
        "id": "F5XWFbL9qgNt"
      },
      "source": [
        "### Pregunta 1:\n",
        "\n",
        "Un monto inicial de dinero (por ejemplo un millón de pesos) se puede depositar en un banco con un interés anual de 5%. Esto significa  que  cumplido  un  año  se  dispondrá  de  \\\\$1.050.000. Si se deposita por dos años, entonces  al  finalizar  el  2º  año se dispondrá de \\\\$1.102.500,  es  decir,  \\\\$1.050.000  reajustado  en  5%.  \n",
        "\n",
        "Al  respecto, si  se  invoca  a  la  función  `calc_capital_final(1000000, 5, 2)`  entrega  el resultado `1050000.0`. \n",
        "\n",
        "Escriba la función `calc_capital_final`\n",
        "\n",
        "$$C_f = C_i(1+i)^n$$\n",
        "\n",
        "- $C_f$ = Capital Final\n",
        "- $C_i$ = Capital Inicial\n",
        "- $i$ = Tasa de interés\n",
        "- $n$ = Periodo del ahorro\n",
        "\n",
        "Además, incluya tests que certifiquen el correcto funcionamiento de la función."
      ],
      "id": "F5XWFbL9qgNt"
    },
    {
      "cell_type": "code",
      "execution_count": 68,
      "metadata": {
        "ExecuteTime": {
          "end_time": "2021-03-26T20:20:21.273258Z",
          "start_time": "2021-03-26T20:20:21.259257Z"
        },
        "cell_id": "00047-f724e446-1bde-4959-8f18-127ea8f869a3",
        "deepnote_cell_height": 84,
        "deepnote_cell_type": "code",
        "id": "dxFMdz8uqgNu"
      },
      "outputs": [],
      "source": [
        "def calc_capital_final(capital_inicial: float, tasa_interes: float, años: float) -> float:\n",
        "    return capital_inicial * (1 + tasa_interes/100)**años"
      ],
      "id": "dxFMdz8uqgNu"
    },
    {
      "cell_type": "code",
      "source": [
        "print(f\"Capital inicial: {calc_capital_final(1e6, 5, 0)}\")\n",
        "print(f\"Capital final después de 1 año: {calc_capital_final(1e6, 5, 1)}\")\n",
        "print(f\"Capital final después de 2 años: {calc_capital_final(1e6, 5, 2)}\")"
      ],
      "metadata": {
        "colab": {
          "base_uri": "https://localhost:8080/"
        },
        "id": "FdDuJtItiVDs",
        "outputId": "60174895-0f59-4c25-ffee-d4686e7bd88c"
      },
      "id": "FdDuJtItiVDs",
      "execution_count": 71,
      "outputs": [
        {
          "output_type": "stream",
          "name": "stdout",
          "text": [
            "Capital inicial: 1000000.0\n",
            "Capital final después de 1 año: 1050000.0\n",
            "Capital final después de 2 años: 1102500.0\n"
          ]
        }
      ]
    },
    {
      "cell_type": "markdown",
      "metadata": {
        "cell_id": "00051-12e27a0b-6dfe-41aa-95b9-7b4bd22e12d1",
        "deepnote_cell_height": 280,
        "deepnote_cell_type": "markdown",
        "id": "FrzDPe54qgNu"
      },
      "source": [
        "### Pregunta 2: \n",
        "\n",
        "Escriba una función que para $x \\ne 0$, calcule  $\\frac{1}{x^0} + \\frac{1}{x^1} + \\frac{1}{x^2} + \\dots + \\frac{1}{x^n}$. Para esto, considere x como un int o float y a n como un int en la siguiente función:  \n",
        "\n",
        "\n",
        "`def sumatoria(x,n):\n",
        "     pass `\n",
        "\n",
        "\n",
        "Use la función anterior en un programa que determine si la suma  $\\frac{1}{x^0} + \\frac{1}{x^1} + \\frac{1}{x^2} + \\dots + \\frac{1}{x^n}$ converge o no.  Utilice un iterador para probar diferentes n en la función sumatoria creada, donde el programa deberá finalizar si cumple o falla los siguientes puntos de convergencia:  - Se considera que la suma converge si la diferencia entre dos sumas sucesivas resulta menor que $10^{-3}$. Ejemplo: $sumatoria(x,1) - sumatoria(x,0) < 10^{-3}$ - Se considera que no converge si para $n=20$ aún no se alcanza el criterio de convergencia."
      ],
      "id": "FrzDPe54qgNu"
    },
    {
      "cell_type": "code",
      "execution_count": 72,
      "metadata": {
        "cell_id": "7ec5c56ff40e4cc4bd69b4ff11a0137a",
        "deepnote_cell_height": 66,
        "deepnote_cell_type": "code",
        "tags": [],
        "id": "2RUOSvgJqgNu"
      },
      "outputs": [],
      "source": [
        "def sumatoria(x: float, n: int) -> float:\n",
        "    return sum(x**(-i) for i in range(n + 1))\n",
        "\n",
        "\n",
        "def es_convergente(x: float) -> bool:\n",
        "    # return 1/x**20 < 10**(-3)  # Utilizando la monotonía de las diferencias de términos sucesivos\n",
        "    # return abs(x) > 1  # Utilizando el radio de convergencia de una serie geométrica\n",
        "    for i in range(20):\n",
        "        if sumatoria(x, i + 1) - sumatoria(x, i) < 1e-3:\n",
        "            return True\n",
        "    return False"
      ],
      "id": "2RUOSvgJqgNu"
    },
    {
      "cell_type": "code",
      "source": [
        "print(f\"sumatoria(1, 10) = {sumatoria(1, 10)}\")\n",
        "print(f\"sumatoria(1, 20) = {sumatoria(1, 20)}\")\n",
        "print(f\"sumatoria(.5, 10) = {sumatoria(.5, 10)}\")\n",
        "print(f\"sumatoria(.5, 20) = {sumatoria(.5, 20)}\")\n",
        "print(f\"sumatoria(2, 10) = {sumatoria(2, 10)}\")\n",
        "print(f\"sumatoria(2, 20) = {sumatoria(2, 20)}\")"
      ],
      "metadata": {
        "colab": {
          "base_uri": "https://localhost:8080/"
        },
        "id": "ZCNezJpR0Ikb",
        "outputId": "7975f8a9-2a66-48ad-cd9f-aeaac5028eee"
      },
      "id": "ZCNezJpR0Ikb",
      "execution_count": 78,
      "outputs": [
        {
          "output_type": "stream",
          "name": "stdout",
          "text": [
            "sumatoria(1, 10) = 11.0\n",
            "sumatoria(1, 20) = 21.0\n",
            "sumatoria(.5, 10) = 2047.0\n",
            "sumatoria(.5, 20) = 2097151.0\n",
            "sumatoria(2, 10) = 1.9990234375\n",
            "sumatoria(2, 20) = 1.9999990463256836\n"
          ]
        }
      ]
    },
    {
      "cell_type": "code",
      "source": [
        "print(f\"es_convergente(1) = {es_convergente(1)}\")\n",
        "print(f\"es_convergente(.5) = {es_convergente(.5)}\")\n",
        "print(f\"es_convergente(2) = {es_convergente(2)}\")"
      ],
      "metadata": {
        "colab": {
          "base_uri": "https://localhost:8080/"
        },
        "id": "VImKnDh30kYP",
        "outputId": "605b6aac-6c78-45ba-df22-432c32e4cd1a"
      },
      "id": "VImKnDh30kYP",
      "execution_count": 79,
      "outputs": [
        {
          "output_type": "stream",
          "name": "stdout",
          "text": [
            "es_convergente(1) = False\n",
            "es_convergente(.5) = False\n",
            "es_convergente(2) = True\n"
          ]
        }
      ]
    },
    {
      "cell_type": "markdown",
      "metadata": {
        "cell_id": "00054-b78328ba-c2fc-4019-b051-0d3759dedd6b",
        "deepnote_cell_height": 195.59375,
        "deepnote_cell_type": "markdown",
        "id": "74d4QijQqgNu"
      },
      "source": [
        "### Pregunta 3:\n",
        "\n",
        "Un anagrama es una palabra que resulta de la transposición de letras de otra palabra o frase.\n",
        "\n",
        "Por ejemplo, las palabras “caso” y “caos” sonan agramas de “saco”  y las palabras “acaso” y “ocaso” no son anagramas de “caso”. Las anagramas poseen las mismas letras, con la misma cantidad de apariciones, pero en un orden diferente\n",
        "\n",
        "Escriba la función `def anagrama(x,y)` que reciba dos palabras y entregue `True` si son anagramas y `False` si no.\n"
      ],
      "id": "74d4QijQqgNu"
    },
    {
      "cell_type": "code",
      "execution_count": 89,
      "metadata": {
        "cell_id": "6726c604d7f340fa81d8167f40ad07cb",
        "deepnote_cell_height": 66,
        "deepnote_cell_type": "code",
        "tags": [],
        "id": "EcHC6g4OqgNv"
      },
      "outputs": [],
      "source": [
        "def anagrama(x: str, y: str) -> bool:\n",
        "    \"\"\"Recibe dos palabras y entrega True si son anagramas y False si no.\"\"\"\n",
        "    frecuencias_x = diccionario_frecuencias(list(x.lower()))\n",
        "    frecuencias_y = diccionario_frecuencias(list(y.lower()))\n",
        "    return frecuencias_x == frecuencias_y\n",
        "\n",
        "def imprimir_resultados_pregunta_3(x, y):\n",
        "    print(f\"¿Es '{x}' anagrama de '{y}'?: {anagrama(x, y)}\")"
      ],
      "id": "EcHC6g4OqgNv"
    },
    {
      "cell_type": "code",
      "source": [
        "imprimir_resultados_pregunta_3(\"caso\", \"caos\")\n",
        "imprimir_resultados_pregunta_3(\"caso\", \"saco\")\n",
        "imprimir_resultados_pregunta_3(\"caos\", \"saco\")\n",
        "imprimir_resultados_pregunta_3(\"acaso\", \"caso\")\n",
        "imprimir_resultados_pregunta_3(\"ocaso\", \"caso\")\n",
        "imprimir_resultados_pregunta_3(\"ocaso\", \"acaso\")"
      ],
      "metadata": {
        "colab": {
          "base_uri": "https://localhost:8080/"
        },
        "id": "6F2LQORY06Gb",
        "outputId": "96acc7e1-7e93-44eb-faf6-3ec680220dfe"
      },
      "id": "6F2LQORY06Gb",
      "execution_count": 90,
      "outputs": [
        {
          "output_type": "stream",
          "name": "stdout",
          "text": [
            "¿Es 'caso' anagrama de 'caos'?: True\n",
            "¿Es 'caso' anagrama de 'saco'?: True\n",
            "¿Es 'caos' anagrama de 'saco'?: True\n",
            "¿Es 'acaso' anagrama de 'caso'?: False\n",
            "¿Es 'ocaso' anagrama de 'caso'?: False\n",
            "¿Es 'ocaso' anagrama de 'acaso'?: False\n"
          ]
        }
      ]
    },
    {
      "cell_type": "markdown",
      "metadata": {
        "ExecuteTime": {
          "end_time": "2021-03-26T14:17:46.644225Z",
          "start_time": "2021-03-26T14:17:46.636254Z"
        },
        "cell_id": "00057-ee7d4cf6-11a3-47c7-b0ff-36ec3452d453",
        "deepnote_cell_height": 480,
        "deepnote_cell_type": "markdown",
        "id": "meY-FpQoqgNv"
      },
      "source": [
        "### Pregunta 4:\n",
        "\n",
        "Programe el juego gato.\n",
        "Para esto:\n",
        "\n",
        "- Cree una matriz inicial (lista de listas) que contenga el estado actual del gato (al inicio).\n",
        "\n",
        "- Cree la función `es_tachable` la cual reciba un par de coordenadas `(i, j)` y que retorne si la posición ingresada se puede tachar (`True`) o ya se encuentra ocupada (`False`).\n",
        "\n",
        "- Cree una función `tachar` que modifiqua el estado del gato para reflejar la marca de uno de los jugadores. Esta debe recibir una coordenada `(i, j)` y el valor de la posicion `v` (solo `'X'` o `'O'`) y debe variar el estado del gato de tal manera que refleje una jugada.  La función debe retornar `True` si fue capaz de o `False` en caso contrario.\n",
        "\n",
        "- Cree la función `existe_ganador` que verifique si luego de una jugada existe algún ganador. Si existe, retorna `True`. `False` en caso contrario.\n",
        "\n",
        "\n",
        "\n",
        "\n",
        "- Implemente un ciclo while que en cada momento no se detenga hasta que exista un jugador ganador. En este ciclo:\n",
        "    - Informa sobre el estado actual del gato y sobre el jugador que le corresponde marcar una casilla.\n",
        "    - Se debe solicitar al jugador que ingrese la coordenada\n",
        "    - Se debe preguntar si la jugada del jugador actual es válida.\n",
        "    - Se debe actualizar el estado del gato\n",
        "    - Se debe cambiar al siguiente jugador.\n"
      ],
      "id": "meY-FpQoqgNv"
    },
    {
      "cell_type": "code",
      "execution_count": 103,
      "metadata": {
        "ExecuteTime": {
          "end_time": "2021-03-26T14:31:46.042560Z",
          "start_time": "2021-03-26T14:31:46.030554Z"
        },
        "cell_id": "00059-0da54cd3-d85e-4bd9-822b-db9220238e5a",
        "deepnote_cell_height": 84,
        "deepnote_cell_type": "code",
        "id": "NvirejWOqgNv"
      },
      "outputs": [],
      "source": [
        "matriz = [[\"\" for _ in range(3)] for __ in range(3)]\n",
        "\n",
        "def inicializar_matriz():\n",
        "    \"\"\"Rellena la matriz (lista de listas) que con el estado inicial del gato.\"\"\"\n",
        "    for i in range(3):\n",
        "        for j in range(3):\n",
        "            matriz[i][j] = \"\"\n",
        "\n",
        "def es_tachable(i: int, j: int) -> bool:\n",
        "    \"\"\"Reciba un par de coordenadas (i, j) y que retorna si la posición ingresada se puede tachar (True) o ya se encuentra ocupada (False).\n",
        "    En el caso de recibir coordenadas fuera de la matriz, también retorna False.\n",
        "    \"\"\"\n",
        "    try:\n",
        "        return not matriz[i][j]\n",
        "    except IndexError:  # Si se da un índice fuera de la matriz\n",
        "        return False\n",
        "\n",
        "\n",
        "def tachar(i: int, j: int, v: str) -> bool:\n",
        "    \"\"\"Modifica el estado del gato para reflejar la marca de uno de los jugadores.\n",
        "    Recibe una coordenada (i, j) y el valor de la posicion v (solo 'X' o 'O'),\n",
        "    y debe varia el estado del gato de tal manera que refleje una jugada.\n",
        "    La función retorna True si fue capaz de tachar la posición o False en caso contrario.\"\"\"\n",
        "    if es_tachable(i, j):\n",
        "        matriz[i][j] = v\n",
        "        return True\n",
        "    return False\n",
        "\n",
        "\n",
        "def tres_en_raya(marcas: list[str]) -> bool:\n",
        "    \"\"\"Función auxiliar que determina si una lista de marcas consiste de 3 'X' o de 3 'O'.\"\"\"\n",
        "    return marcas == 3*[\"X\"] or marcas == 3*[\"O\"]\n",
        "\n",
        "\n",
        "def existe_ganador() -> bool:\n",
        "    \"\"\"Verifica si luego de una jugada existe algún ganador.\n",
        "     Si existe, retorna True. False en caso contrario.\"\"\"\n",
        "    for i in range(3):\n",
        "        if tres_en_raya(matriz[i]):  # Fila\n",
        "            return True\n",
        "        if tres_en_raya([row[i] for row in matriz]):  # Columna\n",
        "            return True\n",
        "    if tres_en_raya([matriz[i][i] for i in range(3)]):  # Diagonal\n",
        "        return True\n",
        "    if tres_en_raya([matriz[i][2 - i] for i in range(3)]):  # Diagonal\n",
        "        return True\n",
        "    return False\n",
        "\n",
        "\n",
        "def esta_la_matriz_llena() -> bool:\n",
        "    \"\"\"Función auxiliar que determina si la matriz está llena o no.\"\"\"\n",
        "    for fila in matriz:\n",
        "        if \"\" in fila:\n",
        "            return False\n",
        "    return True\n",
        "\n",
        "def representar_matriz() -> str:\n",
        "    \"\"\"Función auxiliar para visualizar la matriz como tablero.\"\"\"\n",
        "    return \"\\n\".join(str(row) for row in matriz)"
      ],
      "id": "NvirejWOqgNv"
    },
    {
      "cell_type": "code",
      "source": [
        "def jugar():\n",
        "    # Inicializa la matriz\n",
        "    inicializar_matriz()\n",
        "    turno_de_X = True\n",
        "    # Implementa el juego\n",
        "    while not (existe_ganador() or esta_la_matriz_llena()):  # Implementa un ciclo while que en cada momento no se detenga hasta que exista un jugador ganador\n",
        "        # Informa sobre el estado actual del gato y sobre el jugador que le corresponde marcar una casilla.\n",
        "        print(f\"Tablero actual:\\n{representar_matriz()}\")\n",
        "        jugador = \"X\" if turno_de_X else \"O\"\n",
        "        print(f\"jugador: {jugador}\")\n",
        "        # Se debe solicitar al jugador que ingrese la coordenada\n",
        "        fila = int(input(\"Ingrese la fila: \"))\n",
        "        columna = int(input(\"Ingrese la columna: \"))\n",
        "        while not es_tachable(fila, columna):  # Se debe preguntar si la jugada del jugador actual es válida.\n",
        "            print(f\"Coordenadas {(fila, columna)} son inválidas. Intente de nuevo.\")\n",
        "            fila = int(input(\"Ingrese la fila: \"))\n",
        "            columna = int(input(\"Ingrese la columna: \"))\n",
        "        tachar(fila, columna, jugador)  # Se debe actualizar el estado del gato\n",
        "        turno_de_X = not turno_de_X  # Se debe cambiar al siguiente jugador\n",
        "    # Informa el resultado\n",
        "    if existe_ganador():\n",
        "        print(f\"Ganó {jugador}!\")\n",
        "    else:\n",
        "        print(\"Empate!\")"
      ],
      "metadata": {
        "id": "INDNDGFVyYF_"
      },
      "id": "INDNDGFVyYF_",
      "execution_count": 112,
      "outputs": []
    },
    {
      "cell_type": "code",
      "source": [
        "jugar()"
      ],
      "metadata": {
        "colab": {
          "base_uri": "https://localhost:8080/"
        },
        "id": "Bw3EUwzT1bQF",
        "outputId": "9206a60a-f7fb-4b2d-e400-3f73f29663bf"
      },
      "id": "Bw3EUwzT1bQF",
      "execution_count": 113,
      "outputs": [
        {
          "output_type": "stream",
          "name": "stdout",
          "text": [
            "Tablero actual:\n",
            "['', '', '']\n",
            "['', '', '']\n",
            "['', '', '']\n",
            "jugador: X\n",
            "Ingrese la fila: 0\n",
            "Ingrese la columna: 1\n",
            "Tablero actual:\n",
            "['', 'X', '']\n",
            "['', '', '']\n",
            "['', '', '']\n",
            "jugador: O\n",
            "Ingrese la fila: 1\n",
            "Ingrese la columna: 1\n",
            "Tablero actual:\n",
            "['', 'X', '']\n",
            "['', 'O', '']\n",
            "['', '', '']\n",
            "jugador: X\n",
            "Ingrese la fila: 0\n",
            "Ingrese la columna: 0\n",
            "Tablero actual:\n",
            "['X', 'X', '']\n",
            "['', 'O', '']\n",
            "['', '', '']\n",
            "jugador: O\n",
            "Ingrese la fila: 1\n",
            "Ingrese la columna: 0\n",
            "Tablero actual:\n",
            "['X', 'X', '']\n",
            "['O', 'O', '']\n",
            "['', '', '']\n",
            "jugador: X\n",
            "Ingrese la fila: 0\n",
            "Ingrese la columna: 2\n",
            "Ganó X!\n"
          ]
        }
      ]
    }
  ],
  "metadata": {
    "deepnote": {},
    "deepnote_execution_queue": [],
    "deepnote_notebook_id": "6c5a87d7-eaf9-4631-bdfe-1c6590aec534",
    "kernelspec": {
      "display_name": "Python 3",
      "language": "python",
      "name": "python3"
    },
    "language_info": {
      "codemirror_mode": {
        "name": "ipython",
        "version": 3
      },
      "file_extension": ".py",
      "mimetype": "text/x-python",
      "name": "python",
      "nbconvert_exporter": "python",
      "pygments_lexer": "ipython3",
      "version": "3.8.5"
    },
    "toc": {
      "base_numbering": 1,
      "nav_menu": {},
      "number_sections": true,
      "sideBar": true,
      "skip_h1_title": true,
      "title_cell": "Tabla de Contenidos",
      "title_sidebar": "Contenidos",
      "toc_cell": false,
      "toc_position": {},
      "toc_section_display": true,
      "toc_window_display": false
    },
    "varInspector": {
      "cols": {
        "lenName": 16,
        "lenType": 16,
        "lenVar": 40
      },
      "kernels_config": {
        "python": {
          "delete_cmd_postfix": "",
          "delete_cmd_prefix": "del ",
          "library": "var_list.py",
          "varRefreshCmd": "print(var_dic_list())"
        },
        "r": {
          "delete_cmd_postfix": ") ",
          "delete_cmd_prefix": "rm(",
          "library": "var_list.r",
          "varRefreshCmd": "cat(var_dic_list()) "
        }
      },
      "types_to_exclude": [
        "module",
        "function",
        "builtin_function_or_method",
        "instance",
        "_Feature"
      ],
      "window_display": false
    },
    "colab": {
      "name": "Lab 0.ipynb",
      "provenance": [],
      "collapsed_sections": []
    }
  },
  "nbformat": 4,
  "nbformat_minor": 5
}