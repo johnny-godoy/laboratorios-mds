{
 "cells": [
  {
   "cell_type": "markdown",
   "id": "cd7b1b55",
   "metadata": {
    "cell_id": "bfdbf4ab-01a2-4eb3-975a-8637166de34a",
    "deepnote_cell_height": 104.390625,
    "deepnote_cell_type": "markdown",
    "id": "cd7b1b55"
   },
   "source": [
    "<h1><center>Laboratorio 1: Primeros pasos 👣</center></h1>\n",
    "\n",
    "<center><strong>MDS7202: Laboratorio de Programación Científica para Ciencia de Datos - Primavera 2022</strong></center>"
   ]
  },
  {
   "cell_type": "markdown",
   "id": "Vp_vOHK7V97e",
   "metadata": {
    "cell_id": "00001-34166f5e-1967-44bf-93ae-9e1f689a9d2b",
    "deepnote_cell_height": 165.1875,
    "deepnote_cell_type": "markdown",
    "id": "Vp_vOHK7V97e"
   },
   "source": [
    "### Cuerpo Docente:\n",
    "\n",
    "- Profesor: Matías Rojas y Mauricio Araneda\n",
    "- Auxiliar: Ignacio Meza D.\n",
    "- Ayudante: Rodrigo Guerra"
   ]
  },
  {
   "cell_type": "markdown",
   "id": "4N_5AYgyWKyA",
   "metadata": {
    "cell_id": "00002-de00814c-fecc-4f73-81d3-0c551d90f502",
    "deepnote_cell_height": 171.796875,
    "deepnote_cell_type": "markdown",
    "id": "4N_5AYgyWKyA"
   },
   "source": [
    "### Equipo: SUPER IMPORTANTE - notebooks sin nombre no serán revisados\n",
    "\n",
    "- Nombre de alumno 1: Johnny Godoy\n"
   ]
  },
  {
   "cell_type": "markdown",
   "id": "1rjlaJDEWxd9",
   "metadata": {
    "cell_id": "00003-9e155e1b-c755-4987-a921-ef4b610a8cac",
    "deepnote_cell_height": 62,
    "deepnote_cell_type": "markdown",
    "id": "1rjlaJDEWxd9"
   },
   "source": [
    "### **Link de repositorio de GitHub:** `https://github.com/johnny-godoy/laboratorios-mds/tree/main/lab%201`"
   ]
  },
  {
   "cell_type": "markdown",
   "id": "9el9ERaKWW3i",
   "metadata": {
    "cell_id": "00004-b68898c3-df7f-4924-b546-39989db5c1eb",
    "deepnote_cell_height": 271.796875,
    "deepnote_cell_type": "markdown",
    "id": "9el9ERaKWW3i"
   },
   "source": [
    "## Reglas:\n",
    "\n",
    "- Fecha de entrega: 6 días desde la publicación, 3 días de atraso con 1 punto de descuento c/u. Pueden utilizar días bonus sin descuento.\n",
    "- **Grupos de 2 personas**.\n",
    "- **Ausentes** deberán realizar la actividad solos. \n",
    "- Cualquier duda fuera del horario de clases al foro. Mensajes al equipo docente serán respondidos por este medio.\n",
    "- Prohibidas las copias. \n",
    "- Pueden usar cualquer material del curso que estimen conveniente."
   ]
  },
  {
   "cell_type": "markdown",
   "id": "4708b9b7",
   "metadata": {
    "cell_id": "00005-ee364add-3449-4845-8a64-70b2026cf418",
    "deepnote_cell_height": 249.390625,
    "deepnote_cell_type": "markdown",
    "id": "4708b9b7"
   },
   "source": [
    "\n",
    "## Objetivos del lab:\n",
    "\n",
    "\n",
    "- Variables, Operadores y Expresiones.\n",
    "- Estructuras de Control (if/else).\n",
    "- Iteraciones.\n",
    "- Listas y Diccionarios.\n",
    "- Programación Funcional (Map, Filter y Reduce).\n",
    "- Programación Orientada a Objetos (Encapsulamiento, Polimorfismo y Herencia)"
   ]
  },
  {
   "cell_type": "markdown",
   "id": "d58b089c",
   "metadata": {
    "cell_id": "00006-ee59127c-6e4d-4f0a-b7b3-91fa67030c38",
    "deepnote_cell_height": 567.09375,
    "deepnote_cell_type": "markdown",
    "id": "d58b089c"
   },
   "source": [
    "## Parte 1: 🍋 Frutas 🍓\n",
    "\n",
    "En esta primera parte se trabajará lo escencial visto hasta el momento más un poco de programación funcional a través de frutas:\n",
    "\n",
    "<div align='center'>\n",
    "<img src='https://upload.wikimedia.org/wikipedia/commons/a/a2/Berries_in_Berlin.jpg' width=600/>\n",
    "</div>"
   ]
  },
  {
   "cell_type": "markdown",
   "id": "5fdf6b19",
   "metadata": {
    "cell_id": "00007-a7c16348-8e92-4ca9-8186-61b6469ed037",
    "deepnote_cell_height": 259.59375,
    "deepnote_cell_type": "markdown",
    "id": "5fdf6b19"
   },
   "source": [
    "Defina las siguientes frutas como diccionarios a partir de sus características (nombre, color, tipo y si posee o no pepas):\n",
    "\n",
    "| Nombre    | Tipo     | Color    | Pepas |\n",
    "|-----------|----------|----------|-------|\n",
    "| limon     | cítrica  | amarillo | True  |\n",
    "| naranja   | cítrica  | naranjo  | True  |\n",
    "| plátano   | tropical | amarillo | False |\n",
    "| piña      | tropical | amarillo | False |\n",
    "| frutilla  | bosque   | rojo     | True |\n",
    "| frambuesa | bosque   | rojo     | True |"
   ]
  },
  {
   "cell_type": "markdown",
   "id": "33aed47b",
   "metadata": {
    "cell_id": "00008-129dfcb2-92ca-420e-914c-ef3d28ca94cb",
    "deepnote_cell_height": 122.796875,
    "deepnote_cell_type": "markdown",
    "id": "33aed47b"
   },
   "source": [
    "### [0.5] Estructurar Datos \n",
    "\n",
    "Agregue Piña, Frutilla y Frambuesa como diccionarios (siga los ejemplos de las frutas dadas) y luego cree un arreglo que contenga estas frutas.\n"
   ]
  },
  {
   "cell_type": "code",
   "execution_count": 1,
   "id": "26d23e26",
   "metadata": {
    "cell_id": "00009-dc5bdf7c-c90a-4657-9ab2-b459aae42f9c",
    "deepnote_cell_height": 436,
    "deepnote_cell_type": "code",
    "deepnote_to_be_reexecuted": false,
    "execution": {
     "iopub.execute_input": "2022-08-26T00:11:16.431559Z",
     "iopub.status.busy": "2022-08-26T00:11:16.427558Z",
     "iopub.status.idle": "2022-08-26T00:11:16.465566Z",
     "shell.execute_reply": "2022-08-26T00:11:16.462566Z",
     "shell.execute_reply.started": "2022-08-26T00:11:16.430559Z"
    },
    "execution_millis": 22,
    "execution_start": 1648863016482,
    "id": "26d23e26",
    "source_hash": "56db5a38",
    "tags": []
   },
   "outputs": [],
   "source": [
    "limon = {\n",
    "    \"nombre\": \"limón\", \n",
    "    \"tipo\": \"cítrica\", \n",
    "    \"color\": \"amarillo\", \n",
    "    \"pepas\": True\n",
    "    }\n",
    "\n",
    "naranja = {\"nombre\": \"naranja\", \n",
    "           \"tipo\": \"cítrica\", \n",
    "           \"color\": \"naranjo\", \n",
    "           \"pepas\": True\n",
    "          }\n",
    "\n",
    "platano = {\"nombre\": \"plátano\", \n",
    "           \"tipo\": \"tropical\", \n",
    "           \"color\": \"amarillo\", \n",
    "           \"pepas\": False\n",
    "          }\n",
    "\n",
    "# agregar las frutas que faltan aquí\n",
    "piña = {\"nombre\": \"piña\",\n",
    "        \"tipo\": \"tropical\",\n",
    "        \"color\": \"amarillo\",\n",
    "        \"pepas\": False\n",
    "       }\n",
    "\n",
    "frutilla = {\"nombre\": \"frutilla\",\n",
    "            \"tipo\": \"bosque\",\n",
    "            \"color\": \"rojo\",\n",
    "            \"pepas\": True\n",
    "           }\n",
    "\n",
    "frambuesa = {\"nombre\": \"frambuesa\",\n",
    "             \"tipo\": \"bosque\",\n",
    "             \"color\": \"rojo\",\n",
    "             \"pepas\": True\n",
    "            }"
   ]
  },
  {
   "cell_type": "markdown",
   "id": "259ee333",
   "metadata": {
    "cell_id": "00010-8baad02c-338c-4832-a1fb-421094a960d5",
    "deepnote_cell_height": 52.390625,
    "deepnote_cell_type": "markdown",
    "id": "259ee333"
   },
   "source": [
    "Ahora, agregue todas las frutas a un arreglo."
   ]
  },
  {
   "cell_type": "code",
   "execution_count": 2,
   "id": "fcf62186",
   "metadata": {
    "cell_id": "00011-c1317f9f-b373-4ffa-85a4-edae3c0d74f6",
    "deepnote_cell_height": 94,
    "deepnote_cell_type": "code",
    "deepnote_to_be_reexecuted": false,
    "execution": {
     "iopub.execute_input": "2022-08-26T00:11:16.487572Z",
     "iopub.status.busy": "2022-08-26T00:11:16.486571Z",
     "iopub.status.idle": "2022-08-26T00:11:16.511577Z",
     "shell.execute_reply": "2022-08-26T00:11:16.510577Z",
     "shell.execute_reply.started": "2022-08-26T00:11:16.487572Z"
    },
    "execution_millis": 29,
    "execution_start": 1648863016524,
    "id": "fcf62186",
    "source_hash": "78d4e62",
    "tags": []
   },
   "outputs": [],
   "source": [
    "# Ojo: agregue los datos en el mismo orden que aparecen en la tabla\n",
    "datos = [limon, naranja, platano, piña, frutilla, frambuesa]"
   ]
  },
  {
   "cell_type": "markdown",
   "id": "2ed7730e",
   "metadata": {
    "cell_id": "00012-5549a576-e1ee-4f26-8bea-dfbed941bef9",
    "deepnote_cell_height": 52.390625,
    "deepnote_cell_type": "markdown",
    "id": "2ed7730e"
   },
   "source": [
    "Este arreglo será la información con la que se trabajará durante el lab."
   ]
  },
  {
   "cell_type": "markdown",
   "id": "e9b1e46d",
   "metadata": {
    "cell_id": "00013-28d3dfd6-20bb-4cec-aade-bedb822304cd",
    "deepnote_cell_height": 62,
    "deepnote_cell_type": "markdown",
    "id": "e9b1e46d"
   },
   "source": [
    "### Funciones Aplicadas a los Datos [1.5 puntos]"
   ]
  },
  {
   "cell_type": "markdown",
   "id": "b7b016d6",
   "metadata": {
    "cell_id": "00014-cd5b819f-eab4-4c58-ad5d-38f8c7748b2a",
    "deepnote_cell_height": 614.59375,
    "deepnote_cell_type": "markdown",
    "id": "b7b016d6"
   },
   "source": [
    "Elabore las siguientes funciones:\n",
    "    \n",
    "**1. La función `describir(datos)` que genere un arreglo con strings que describan cada fruta de la siguiente manera:**\n",
    "\n",
    "```{El/La} {...} es una fruta de tipo {...} de color {...}. {Presenta/No presenta} pepas en su interior.```\n",
    "    \n",
    "Por ejemplo, para el plátano se debe generar el siguiente string:\n",
    "    \n",
    "```\n",
    "'El plátano es una fruta de tipo tropical de color amarillo. No presenta pepas en su interior.'\n",
    "```\n",
    "    \n",
    "Indicaciones: \n",
    "- Usen formateo o suma de strings, if, else y for.\n",
    "- Para saber si ocupar 'El' o 'La', pueden acceder al nombre de la fruta y ver cual es el último carácter a través de indexadores `string[indice]`.\n",
    "    \n",
    "**2. La función `filtrar_por_pepa(datos, tiene_pepas)` que dado un tipo de fruta y un booleano, retorne las frutas que tienen o no tienen pepas (según el valor de `tiene_pepas`).**\n",
    "    \n",
    "\n",
    "Por ejemplo, `filtrar_por_pepa(datos, True)` deberá retornar un arreglo con los diccionarios de: naranja, limon, frutilla y frambuesa.\n",
    "\n",
    "\n",
    "**3. La función `conteo_colores(datos)` que cree un diccionario que haga un conteo los colores de las frutas.**\n",
    "\n",
    "Para estos datos, la función debería retornar el siguiente diccionario: \n",
    "    \n",
    "```python\n",
    "{\"amarillo\": 3, \"naranjo\": 1, \"rojo\": 2}\n",
    "````"
   ]
  },
  {
   "cell_type": "code",
   "execution_count": 3,
   "id": "023bc051",
   "metadata": {
    "cell_id": "00015-60e93552-c571-4d33-8760-e0224417f3ff",
    "deepnote_cell_height": 310,
    "deepnote_cell_type": "code",
    "deepnote_to_be_reexecuted": false,
    "execution": {
     "iopub.execute_input": "2022-08-26T00:11:16.512576Z",
     "iopub.status.busy": "2022-08-26T00:11:16.512576Z",
     "iopub.status.idle": "2022-08-26T00:11:16.527581Z",
     "shell.execute_reply": "2022-08-26T00:11:16.526580Z",
     "shell.execute_reply.started": "2022-08-26T00:11:16.512576Z"
    },
    "execution_millis": 0,
    "execution_start": 1648863316144,
    "id": "023bc051",
    "source_hash": "cc4d3003",
    "tags": []
   },
   "outputs": [],
   "source": [
    "def describir(datos):\n",
    "    descripciones = []\n",
    "    for fruta in datos:\n",
    "        nombre = fruta[\"nombre\"]\n",
    "        genero = \"La\" if nombre[-1] == \"a\" else \"El\"\n",
    "        presenta_pepas = \"Presenta\" if fruta[\"pepas\"] else \"No presenta\"\n",
    "        descripciones.append(f'{genero} {nombre} es una fruta de tipo {fruta[\"tipo\"]} de color {fruta[\"color\"]}. {presenta_pepas} pepas en su interior.')\n",
    "    return descripciones\n",
    "\n",
    "\n",
    "def filtrar_por_pepa(datos, tiene_pepas):\n",
    "    return [fruta for fruta in datos if fruta[\"pepas\"] == tiene_pepas]\n",
    "\n",
    "\n",
    "def conteo_colores(datos):\n",
    "    conteo = {}\n",
    "    for fruta in datos:\n",
    "        try:\n",
    "            conteo[fruta[\"color\"]] += 1\n",
    "        except KeyError:\n",
    "            conteo[fruta[\"color\"]] = 1\n",
    "    return conteo"
   ]
  },
  {
   "cell_type": "markdown",
   "id": "5240bec1",
   "metadata": {
    "cell_id": "00016-3a23b5a7-7670-44ae-9d7f-799a1c55e7fe",
    "deepnote_cell_height": 142,
    "deepnote_cell_type": "markdown",
    "id": "5240bec1"
   },
   "source": [
    "El código de la siguiente celda presenta tests para probar sus funciones: Si la ejecución de esta celda no les levanta ninguna excepción, entonces sus funciones están implementadas según lo requerido. Si alguna falla, entonces deberán corregir los errores mostrados. \n",
    "Noten que los strings, diccionarios y en general, los objetos deben ser exactamente idénticos para que el test no falle.\n"
   ]
  },
  {
   "cell_type": "markdown",
   "id": "F2mt7aIusap8",
   "metadata": {
    "cell_id": "00017-069e9135-e447-4925-b184-6b3caef5395d",
    "deepnote_cell_height": 52.390625,
    "deepnote_cell_type": "markdown",
    "id": "F2mt7aIusap8"
   },
   "source": [
    "**Ejecuten esta celda para comprobar su código:**"
   ]
  },
  {
   "cell_type": "code",
   "execution_count": 4,
   "id": "c39b58c0",
   "metadata": {
    "cell_id": "00018-e3eddceb-a874-4260-8649-c594aedc83ce",
    "deepnote_cell_height": 657,
    "deepnote_cell_type": "code",
    "deepnote_to_be_reexecuted": false,
    "execution": {
     "iopub.execute_input": "2022-08-26T00:11:16.529581Z",
     "iopub.status.busy": "2022-08-26T00:11:16.529581Z",
     "iopub.status.idle": "2022-08-26T00:11:16.543584Z",
     "shell.execute_reply": "2022-08-26T00:11:16.542584Z",
     "shell.execute_reply.started": "2022-08-26T00:11:16.529581Z"
    },
    "execution_millis": 0,
    "execution_start": 1648863016644,
    "id": "c39b58c0",
    "source_hash": "af520603",
    "tags": []
   },
   "outputs": [],
   "source": [
    "# ---------------------------------------------------------------------\n",
    "# test descripciones\n",
    "# note que las frutas deben estar en igual orden para que este assert no falle.\n",
    "\n",
    "descripciones_esperadas = [\n",
    "    \"El limón es una fruta de tipo cítrica de color amarillo. Presenta pepas en su interior.\",\n",
    "    \"La naranja es una fruta de tipo cítrica de color naranjo. Presenta pepas en su interior.\",\n",
    "    \"El plátano es una fruta de tipo tropical de color amarillo. No presenta pepas en su interior.\",\n",
    "    \"La piña es una fruta de tipo tropical de color amarillo. No presenta pepas en su interior.\",\n",
    "    \"La frutilla es una fruta de tipo bosque de color rojo. Presenta pepas en su interior.\",\n",
    "    \"La frambuesa es una fruta de tipo bosque de color rojo. Presenta pepas en su interior.\",\n",
    "]\n",
    "\n",
    "assert descripciones_esperadas == describir(datos)\n",
    "\n",
    "\n",
    "# ---------------------------------------------------------------------\n",
    "# test filtro\n",
    "frutas_con_pepa_esperadas = [\n",
    "    {\"nombre\": \"limón\", \"tipo\": \"cítrica\", \"color\": \"amarillo\", \"pepas\": True},\n",
    "    {\"nombre\": \"naranja\", \"tipo\": \"cítrica\", \"color\": \"naranjo\", \"pepas\": True},\n",
    "    {\"nombre\": \"frutilla\", \"tipo\": \"bosque\", \"color\": \"rojo\", \"pepas\": True},\n",
    "    {\"nombre\": \"frambuesa\", \"tipo\": \"bosque\", \"color\": \"rojo\", \"pepas\": True}\n",
    "]\n",
    "\n",
    "assert frutas_con_pepa_esperadas == filtrar_por_pepa(datos, True)\n",
    "\n",
    "# ---------------------------------------------------------------------\n",
    "# test conteo\n",
    "conteo_esperado = {'amarillo': 3, 'naranjo': 1, 'rojo': 2}\n",
    "\n",
    "\n",
    "assert conteo_esperado == conteo_colores(datos)"
   ]
  },
  {
   "cell_type": "markdown",
   "id": "yvry-8cgmHk5",
   "metadata": {
    "cell_id": "00019-4f86fe93-a6fe-4f70-a2de-9502e44b49b5",
    "deepnote_cell_height": 100.390625,
    "deepnote_cell_type": "markdown",
    "id": "yvry-8cgmHk5"
   },
   "source": [
    "### Implementaciones Funcionales [1.0 punto] \n",
    "\n",
    "Implementar las funciones de la sección anterior de forma funcional (solo las primeras 2)."
   ]
  },
  {
   "cell_type": "code",
   "execution_count": 5,
   "id": "c6ef993a",
   "metadata": {
    "cell_id": "00020-dad72fd1-f187-41f7-8a0c-4146cb5b306f",
    "deepnote_cell_height": 274,
    "deepnote_cell_type": "code",
    "deepnote_to_be_reexecuted": false,
    "execution": {
     "iopub.execute_input": "2022-08-26T00:11:16.544584Z",
     "iopub.status.busy": "2022-08-26T00:11:16.544584Z",
     "iopub.status.idle": "2022-08-26T00:11:16.558586Z",
     "shell.execute_reply": "2022-08-26T00:11:16.558586Z",
     "shell.execute_reply.started": "2022-08-26T00:11:16.544584Z"
    },
    "execution_millis": 3,
    "execution_start": 1648863330543,
    "id": "c6ef993a",
    "source_hash": "64c31950",
    "tags": []
   },
   "outputs": [],
   "source": [
    "def describir_funcional(datos):\n",
    "\n",
    "    def generar_descripcion(fruta):\n",
    "        nombre = fruta[\"nombre\"]\n",
    "        genero = \"La\" if nombre[-1] == \"a\" else \"El\"\n",
    "        presenta_pepas = \"Presenta\" if fruta[\"pepas\"] else \"No presenta\"\n",
    "        return f'{genero} {nombre} es una fruta de tipo {fruta[\"tipo\"]} de color {fruta[\"color\"]}. {presenta_pepas} pepas en su interior.'\n",
    "\n",
    "    descripciones = list(map(generar_descripcion, datos))\n",
    "    return descripciones\n",
    "\n",
    "def filtrar_por_pepa_funcional(datos, tipo_de_dato):\n",
    "    filtrados = list(filter(lambda fruta: fruta[\"pepas\"] == tipo_de_dato, datos))\n",
    "    return filtrados"
   ]
  },
  {
   "cell_type": "code",
   "execution_count": 6,
   "id": "OyGdi9IRS9fy",
   "metadata": {
    "cell_id": "00021-b768865a-b51d-42df-870e-5ce765869644",
    "deepnote_cell_height": 94,
    "deepnote_cell_type": "code",
    "deepnote_to_be_reexecuted": false,
    "execution": {
     "iopub.execute_input": "2022-08-26T00:11:16.561589Z",
     "iopub.status.busy": "2022-08-26T00:11:16.560588Z",
     "iopub.status.idle": "2022-08-26T00:11:16.575591Z",
     "shell.execute_reply": "2022-08-26T00:11:16.574590Z",
     "shell.execute_reply.started": "2022-08-26T00:11:16.561589Z"
    },
    "execution_millis": 4,
    "execution_start": 1648863332481,
    "id": "OyGdi9IRS9fy",
    "source_hash": "a202dbc8",
    "tags": []
   },
   "outputs": [],
   "source": [
    "assert descripciones_esperadas == describir_funcional(datos)\n",
    "assert frutas_con_pepa_esperadas == filtrar_por_pepa_funcional(datos, True)"
   ]
  },
  {
   "cell_type": "markdown",
   "id": "492b941a",
   "metadata": {
    "cell_id": "00022-276603b2-51d4-4b7f-8001-a1616289e70e",
    "deepnote_cell_height": 723.59375,
    "deepnote_cell_type": "markdown",
    "id": "492b941a"
   },
   "source": [
    "## Parte 2: Electrodomésticos \n",
    "\n",
    "En esta parte se solicitarán un par de clases que permitirá jugar con la Programación Orientada a Objetos.\n",
    "\n",
    "<div align='center'>\n",
    "<img src='https://upload.wikimedia.org/wikipedia/commons/6/67/Breville.jpg' width=400/>\n",
    "</div>\n",
    "\n",
    "\n",
    "### [0.5] Clase Electrodoméstico\n",
    "\n",
    "Defina la clase `Electrodomestico` que implemente:\n",
    "\n",
    "\n",
    "- Un constructor que defina un atributo de instancia llamado `enchufado` que almacene valores booleanos. \n",
    "- Un método llamado `esta_enchufado(self)` que levante una excepción `Exception` y que termine con la ejecución del programa cuando el atributo enchuado sea `False`. La exepción debe levantar el mensaje `'Alerta ⚠️: El electrodoméstico no está enchufado'`\n",
    "- Un método llamado `enchufar(self)` que cambia el estado de `enchufado` a True.\n",
    "\n"
   ]
  },
  {
   "cell_type": "code",
   "execution_count": 7,
   "id": "9f8aa475",
   "metadata": {
    "cell_id": "00023-6491b37f-6bf9-48c1-8dd6-64734002117f",
    "deepnote_cell_height": 238,
    "deepnote_cell_type": "code",
    "deepnote_to_be_reexecuted": false,
    "execution": {
     "iopub.execute_input": "2022-08-26T00:11:16.580593Z",
     "iopub.status.busy": "2022-08-26T00:11:16.580593Z",
     "iopub.status.idle": "2022-08-26T00:11:16.606598Z",
     "shell.execute_reply": "2022-08-26T00:11:16.605598Z",
     "shell.execute_reply.started": "2022-08-26T00:11:16.580593Z"
    },
    "execution_millis": 21,
    "execution_start": 1648863016745,
    "id": "9f8aa475",
    "source_hash": "43ca10f0",
    "tags": []
   },
   "outputs": [],
   "source": [
    "class Electrodomestico:\n",
    "    def __init__(self):\n",
    "        self.enchufado = False\n",
    "\n",
    "    def esta_enchufado(self):\n",
    "        if not self.enchufado:\n",
    "            raise Exception('Alerta ⚠️: El electrodoméstico no está enchufado')\n",
    "\n",
    "    def enchufar(self):\n",
    "        self.enchufado = True"
   ]
  },
  {
   "cell_type": "markdown",
   "id": "d7d477b5",
   "metadata": {
    "cell_id": "00024-0d2d8181-6462-4204-9fa4-da88063e46c8",
    "deepnote_cell_height": 1059.59375,
    "deepnote_cell_type": "markdown",
    "id": "d7d477b5"
   },
   "source": [
    "### Clase Jugera [1.5 puntos] \n",
    "\n",
    "\n",
    "<div align='center'>\n",
    "<img src='https://upload.wikimedia.org/wikipedia/commons/b/bb/Liquadora_%28parts%29.JPG' width=400/>\n",
    "</div>\n",
    "\n",
    "\n",
    "Implemente la clase `Jugera` que extiende `Electrodomestico` y que implemente: \n",
    "\n",
    "\n",
    "- Un constructor que tenga una lista de ingredientes frutales (llamado `bandeja`).\n",
    "\n",
    "\n",
    "- Un método llamado `agregar_ingrediente(self, nueva_fruta)` que dado una fruta, agregue esa fruta a la `bandeja`.\n",
    "\n",
    "- Un método llamado `listar_ingredientes(self)` que imprima (con `print`) los ingredientes actuales de la `bandeja` de la siguiente forma: \n",
    "\n",
    "    `Ingredientes en la bandeja: frutilla, frambuesa, piña.`\n",
    "\n",
    "De lo contrario si no tiene ingredientes imprima:\n",
    "\n",
    "    `Bandeja vacía`\n",
    "\n",
    "\n",
    "**Hint:** Investigar el método `join` de un string para generar el string con los nombres de las frutas.\n",
    "    \n",
    "    \n",
    "    \n",
    "\n",
    "- Un método llamado `preparar_jugo(self)` que: \n",
    "    - Primero verifique que el electrodoméstico esté enchufado usando `self.esta_enchufado()`.\n",
    "    - Verifique que haya por lo menos un ingrediente en la `bandeja`. En el caso que no haya, levantar una excepción con contenido `'Error ❌: La bandeja no tiene ingredientes.'`\n",
    "    - Verifique que ninguna fruta tenga pepas. En el caso que haya alguna, imprimir (con `print`) el mensaje de advertencia `'Alerta ⚠️: El jugo puede contener restos de pepas.'`. Puede usar la función definida en la sección anterior.\n",
    "    - Genere un mensaje indicado `Jugo de {nombres de las frutas separadas por una ,} listo. 🏖️🥤 Que lo disfrutes!!! 🥤🏖️. ` (Hint: Usar nuevamente `join`).\n",
    "    - Vacie la `bandeja` (es decir, eliminar todas las frutas de la bandeja).\n",
    "    - Retorne el mensaje generado.\n"
   ]
  },
  {
   "cell_type": "code",
   "execution_count": 8,
   "id": "d9db037b",
   "metadata": {
    "cell_id": "00025-bb7f14a6-ab47-4169-9435-6cab7ecf5ccf",
    "deepnote_cell_height": 346,
    "deepnote_cell_type": "code",
    "deepnote_to_be_reexecuted": false,
    "execution": {
     "iopub.execute_input": "2022-08-26T00:11:16.608598Z",
     "iopub.status.busy": "2022-08-26T00:11:16.607599Z",
     "iopub.status.idle": "2022-08-26T00:11:16.621601Z",
     "shell.execute_reply": "2022-08-26T00:11:16.621601Z",
     "shell.execute_reply.started": "2022-08-26T00:11:16.608598Z"
    },
    "execution_millis": 0,
    "execution_start": 1648863366156,
    "id": "d9db037b",
    "source_hash": "fe592b51",
    "tags": []
   },
   "outputs": [],
   "source": [
    "class Jugera(Electrodomestico):\n",
    "    def __init__(self):\n",
    "        super().__init__()\n",
    "        self.bandeja = []\n",
    "\n",
    "    def agregar_ingrediente(self, nueva_fruta):\n",
    "        self.bandeja.append(nueva_fruta)\n",
    "\n",
    "    def listar_ingredientes(self):\n",
    "        if len(self.bandeja) == 0:\n",
    "            print(\"Bandeja vacía\")\n",
    "        else:\n",
    "            nombres = \", \".join(fruta[\"nombre\"] for fruta in self.bandeja)\n",
    "            print(f\"Ingredientes en la bandeja: {nombres}.\")\n",
    "\n",
    "    def preparar_jugo(self):\n",
    "        self.esta_enchufado()  # Cae error de no ser el caso\n",
    "        if len(self.bandeja) < 1:\n",
    "            raise Exception('Error ❌: La bandeja no tiene ingredientes.')\n",
    "        if len(filtrar_por_pepa(datos, True)) > 0:\n",
    "            print('Alerta ⚠️: El jugo puede contener restos de pepas.')\n",
    "        nombres = \", \".join(fruta[\"nombre\"] for fruta in self.bandeja)\n",
    "        mensaje = f\"Jugo de {nombres} listo. 🏖️🥤 Que lo disfrutes!!! 🥤🏖️.\"\n",
    "        self.bandeja = []\n",
    "        return mensaje"
   ]
  },
  {
   "cell_type": "markdown",
   "id": "6889015a",
   "metadata": {
    "cell_id": "00026-21181882-8e79-4805-8e16-94ba7fcf4a37",
    "deepnote_cell_height": 122.796875,
    "deepnote_cell_type": "markdown",
    "id": "6889015a"
   },
   "source": [
    "### Interacciones\n",
    "\n",
    "Las siguientes celdas les permitirán probar las interacciones de esta clase.\n",
    "La ejecución es solo referencial y no lleva puntaje. La idea es que la utilice como guía para desarrollar la clase."
   ]
  },
  {
   "cell_type": "code",
   "execution_count": 9,
   "id": "913af660",
   "metadata": {
    "cell_id": "00027-1867ac2c-f7af-402f-b64b-90b3a762058a",
    "colab": {
     "base_uri": "https://localhost:8080/"
    },
    "deepnote_cell_height": 161,
    "deepnote_cell_type": "code",
    "deepnote_to_be_reexecuted": false,
    "execution": {
     "iopub.execute_input": "2022-08-26T00:11:16.623601Z",
     "iopub.status.busy": "2022-08-26T00:11:16.623601Z",
     "iopub.status.idle": "2022-08-26T00:11:16.637604Z",
     "shell.execute_reply": "2022-08-26T00:11:16.637604Z",
     "shell.execute_reply.started": "2022-08-26T00:11:16.623601Z"
    },
    "execution_millis": 8,
    "execution_start": 1648863369348,
    "id": "913af660",
    "outputId": "7164b289-ab75-48f5-a03f-4396c8841115",
    "source_hash": "239b8903",
    "tags": []
   },
   "outputs": [
    {
     "name": "stdout",
     "output_type": "stream",
     "text": [
      "Bandeja vacía\n"
     ]
    }
   ],
   "source": [
    "jugera = Jugera()\n",
    "\n",
    "# Como no tenemos ingredientes, listar_ingredientes deberá imprimir 'Bandeja vacía'\n",
    "jugera.listar_ingredientes()"
   ]
  },
  {
   "cell_type": "code",
   "execution_count": 10,
   "id": "9d06bf3e",
   "metadata": {
    "cell_id": "00028-de679d95-a42c-48f6-86ff-3ca92f9de2c2",
    "colab": {
     "base_uri": "https://localhost:8080/",
     "height": 337
    },
    "deepnote_cell_height": 157.1875,
    "deepnote_cell_type": "code",
    "deepnote_to_be_reexecuted": false,
    "execution": {
     "iopub.execute_input": "2022-08-26T00:11:16.640605Z",
     "iopub.status.busy": "2022-08-26T00:11:16.639605Z",
     "iopub.status.idle": "2022-08-26T00:11:17.548809Z",
     "shell.execute_reply": "2022-08-26T00:11:17.545808Z",
     "shell.execute_reply.started": "2022-08-26T00:11:16.640605Z"
    },
    "execution_millis": 20,
    "execution_start": 1648863371573,
    "id": "9d06bf3e",
    "outputId": "0570ec3a-fc16-4239-b7d2-ed3db46b9cbe",
    "source_hash": "77689b24",
    "tags": []
   },
   "outputs": [
    {
     "ename": "Exception",
     "evalue": "Alerta ⚠️: El electrodoméstico no está enchufado",
     "output_type": "error",
     "traceback": [
      "\u001b[1;31m---------------------------------------------------------------------------\u001b[0m",
      "\u001b[1;31mException\u001b[0m                                 Traceback (most recent call last)",
      "Input \u001b[1;32mIn [10]\u001b[0m, in \u001b[0;36m<cell line: 2>\u001b[1;34m()\u001b[0m\n\u001b[0;32m      1\u001b[0m \u001b[38;5;66;03m# Esta celda debería levantar una excepcion indicando que no está enchufada la jugera.\u001b[39;00m\n\u001b[1;32m----> 2\u001b[0m \u001b[43mjugera\u001b[49m\u001b[38;5;241;43m.\u001b[39;49m\u001b[43mpreparar_jugo\u001b[49m\u001b[43m(\u001b[49m\u001b[43m)\u001b[49m\n",
      "Input \u001b[1;32mIn [8]\u001b[0m, in \u001b[0;36mJugera.preparar_jugo\u001b[1;34m(self)\u001b[0m\n\u001b[0;32m     16\u001b[0m \u001b[38;5;28;01mdef\u001b[39;00m \u001b[38;5;21mpreparar_jugo\u001b[39m(\u001b[38;5;28mself\u001b[39m):\n\u001b[1;32m---> 17\u001b[0m     \u001b[38;5;28;43mself\u001b[39;49m\u001b[38;5;241;43m.\u001b[39;49m\u001b[43mesta_enchufado\u001b[49m\u001b[43m(\u001b[49m\u001b[43m)\u001b[49m  \u001b[38;5;66;03m# Cae error de no ser el caso\u001b[39;00m\n\u001b[0;32m     18\u001b[0m     \u001b[38;5;28;01mif\u001b[39;00m \u001b[38;5;28mlen\u001b[39m(\u001b[38;5;28mself\u001b[39m\u001b[38;5;241m.\u001b[39mbandeja) \u001b[38;5;241m<\u001b[39m \u001b[38;5;241m1\u001b[39m:\n\u001b[0;32m     19\u001b[0m         \u001b[38;5;28;01mraise\u001b[39;00m \u001b[38;5;167;01mException\u001b[39;00m(\u001b[38;5;124m'\u001b[39m\u001b[38;5;124mError ❌: La bandeja no tiene ingredientes.\u001b[39m\u001b[38;5;124m'\u001b[39m)\n",
      "Input \u001b[1;32mIn [7]\u001b[0m, in \u001b[0;36mElectrodomestico.esta_enchufado\u001b[1;34m(self)\u001b[0m\n\u001b[0;32m      5\u001b[0m \u001b[38;5;28;01mdef\u001b[39;00m \u001b[38;5;21mesta_enchufado\u001b[39m(\u001b[38;5;28mself\u001b[39m):\n\u001b[0;32m      6\u001b[0m     \u001b[38;5;28;01mif\u001b[39;00m \u001b[38;5;129;01mnot\u001b[39;00m \u001b[38;5;28mself\u001b[39m\u001b[38;5;241m.\u001b[39menchufado:\n\u001b[1;32m----> 7\u001b[0m         \u001b[38;5;28;01mraise\u001b[39;00m \u001b[38;5;167;01mException\u001b[39;00m(\u001b[38;5;124m'\u001b[39m\u001b[38;5;124mAlerta ⚠️: El electrodoméstico no está enchufado\u001b[39m\u001b[38;5;124m'\u001b[39m)\n",
      "\u001b[1;31mException\u001b[0m: Alerta ⚠️: El electrodoméstico no está enchufado"
     ]
    }
   ],
   "source": [
    "# Esta celda debería levantar una excepcion indicando que no está enchufada la jugera.\n",
    "jugera.preparar_jugo()"
   ]
  },
  {
   "cell_type": "code",
   "execution_count": 11,
   "id": "3ad38f18",
   "metadata": {
    "cell_id": "00029-d9165e10-9c64-4c24-9a09-8ab9d42107fe",
    "deepnote_cell_height": 94,
    "deepnote_cell_type": "code",
    "deepnote_to_be_reexecuted": false,
    "execution": {
     "iopub.execute_input": "2022-08-26T00:11:24.222310Z",
     "iopub.status.busy": "2022-08-26T00:11:24.221310Z",
     "iopub.status.idle": "2022-08-26T00:11:24.237313Z",
     "shell.execute_reply": "2022-08-26T00:11:24.237313Z",
     "shell.execute_reply.started": "2022-08-26T00:11:24.222310Z"
    },
    "execution_millis": 0,
    "execution_start": 1648863372430,
    "id": "3ad38f18",
    "source_hash": "36a2ab49",
    "tags": []
   },
   "outputs": [],
   "source": [
    "# Enchufamos el electrodoméstico\n",
    "jugera.enchufar()"
   ]
  },
  {
   "cell_type": "code",
   "execution_count": 12,
   "id": "48009872",
   "metadata": {
    "cell_id": "00030-21f1cce1-c787-421e-9a9d-568148509bfa",
    "colab": {
     "base_uri": "https://localhost:8080/",
     "height": 299
    },
    "deepnote_cell_height": 162.1875,
    "deepnote_cell_type": "code",
    "deepnote_to_be_reexecuted": false,
    "execution": {
     "iopub.execute_input": "2022-08-26T00:11:24.745428Z",
     "iopub.status.busy": "2022-08-26T00:11:24.744428Z",
     "iopub.status.idle": "2022-08-26T00:11:24.795439Z",
     "shell.execute_reply": "2022-08-26T00:11:24.794438Z",
     "shell.execute_reply.started": "2022-08-26T00:11:24.744428Z"
    },
    "execution_millis": 173,
    "execution_start": 1648863376136,
    "id": "48009872",
    "outputId": "c340d269-afa0-4d70-e489-d5c3710dda6e",
    "scrolled": true,
    "source_hash": "27514b2c",
    "tags": []
   },
   "outputs": [
    {
     "ename": "Exception",
     "evalue": "Error ❌: La bandeja no tiene ingredientes.",
     "output_type": "error",
     "traceback": [
      "\u001b[1;31m---------------------------------------------------------------------------\u001b[0m",
      "\u001b[1;31mException\u001b[0m                                 Traceback (most recent call last)",
      "Input \u001b[1;32mIn [12]\u001b[0m, in \u001b[0;36m<cell line: 2>\u001b[1;34m()\u001b[0m\n\u001b[0;32m      1\u001b[0m \u001b[38;5;66;03m# Esta celda debería levantar ina excepción informandoles que la bandeja no tiene ingredientes.\u001b[39;00m\n\u001b[1;32m----> 2\u001b[0m \u001b[43mjugera\u001b[49m\u001b[38;5;241;43m.\u001b[39;49m\u001b[43mpreparar_jugo\u001b[49m\u001b[43m(\u001b[49m\u001b[43m)\u001b[49m\n",
      "Input \u001b[1;32mIn [8]\u001b[0m, in \u001b[0;36mJugera.preparar_jugo\u001b[1;34m(self)\u001b[0m\n\u001b[0;32m     17\u001b[0m \u001b[38;5;28mself\u001b[39m\u001b[38;5;241m.\u001b[39mesta_enchufado()  \u001b[38;5;66;03m# Cae error de no ser el caso\u001b[39;00m\n\u001b[0;32m     18\u001b[0m \u001b[38;5;28;01mif\u001b[39;00m \u001b[38;5;28mlen\u001b[39m(\u001b[38;5;28mself\u001b[39m\u001b[38;5;241m.\u001b[39mbandeja) \u001b[38;5;241m<\u001b[39m \u001b[38;5;241m1\u001b[39m:\n\u001b[1;32m---> 19\u001b[0m     \u001b[38;5;28;01mraise\u001b[39;00m \u001b[38;5;167;01mException\u001b[39;00m(\u001b[38;5;124m'\u001b[39m\u001b[38;5;124mError ❌: La bandeja no tiene ingredientes.\u001b[39m\u001b[38;5;124m'\u001b[39m)\n\u001b[0;32m     20\u001b[0m \u001b[38;5;28;01mif\u001b[39;00m \u001b[38;5;28mlen\u001b[39m(filtrar_por_pepa(datos, \u001b[38;5;28;01mTrue\u001b[39;00m)) \u001b[38;5;241m>\u001b[39m \u001b[38;5;241m0\u001b[39m:\n\u001b[0;32m     21\u001b[0m     \u001b[38;5;28mprint\u001b[39m(\u001b[38;5;124m'\u001b[39m\u001b[38;5;124mAlerta ⚠️: El jugo puede contener restos de pepas.\u001b[39m\u001b[38;5;124m'\u001b[39m)\n",
      "\u001b[1;31mException\u001b[0m: Error ❌: La bandeja no tiene ingredientes."
     ]
    }
   ],
   "source": [
    "# Esta celda debería levantar ina excepción informandoles que la bandeja no tiene ingredientes.\n",
    "jugera.preparar_jugo()"
   ]
  },
  {
   "cell_type": "code",
   "execution_count": 13,
   "id": "4873e0bf",
   "metadata": {
    "cell_id": "00031-557247ee-0b0e-419d-ab91-05eb6c622fea",
    "colab": {
     "base_uri": "https://localhost:8080/"
    },
    "deepnote_cell_height": 197,
    "deepnote_cell_type": "code",
    "deepnote_to_be_reexecuted": false,
    "execution": {
     "iopub.execute_input": "2022-08-26T00:11:25.697643Z",
     "iopub.status.busy": "2022-08-26T00:11:25.696644Z",
     "iopub.status.idle": "2022-08-26T00:11:25.706645Z",
     "shell.execute_reply": "2022-08-26T00:11:25.705644Z",
     "shell.execute_reply.started": "2022-08-26T00:11:25.697643Z"
    },
    "execution_millis": 6,
    "execution_start": 1648863377052,
    "id": "4873e0bf",
    "outputId": "4ee534c1-047a-44e7-a78f-dfb2f9c35ecc",
    "source_hash": "a8f0979e",
    "tags": []
   },
   "outputs": [
    {
     "name": "stdout",
     "output_type": "stream",
     "text": [
      "Ingredientes en la bandeja: naranja, plátano.\n"
     ]
    }
   ],
   "source": [
    "# Agregamos algunos ingredientes\n",
    "jugera.agregar_ingrediente(naranja)\n",
    "jugera.agregar_ingrediente(platano)\n",
    "\n",
    "# Y los listamos (debería imprimir: 'Ingredientes en la bandeja: naranja, plátano')\n",
    "jugera.listar_ingredientes()"
   ]
  },
  {
   "cell_type": "code",
   "execution_count": 14,
   "id": "ff555151",
   "metadata": {
    "cell_id": "00032-fe1976d4-c86a-446c-bd56-cc8fcc77902d",
    "colab": {
     "base_uri": "https://localhost:8080/",
     "height": 35
    },
    "deepnote_cell_height": 176.1875,
    "deepnote_cell_type": "code",
    "deepnote_output_heights": [
     null,
     20.1875
    ],
    "deepnote_to_be_reexecuted": false,
    "execution": {
     "iopub.execute_input": "2022-08-26T00:11:26.296777Z",
     "iopub.status.busy": "2022-08-26T00:11:26.296777Z",
     "iopub.status.idle": "2022-08-26T00:11:26.326784Z",
     "shell.execute_reply": "2022-08-26T00:11:26.325783Z",
     "shell.execute_reply.started": "2022-08-26T00:11:26.296777Z"
    },
    "execution_millis": 5,
    "execution_start": 1648863380098,
    "id": "ff555151",
    "outputId": "a1645680-8b1c-47d7-f2c0-111198632692",
    "source_hash": "7086345e",
    "tags": []
   },
   "outputs": [
    {
     "name": "stdout",
     "output_type": "stream",
     "text": [
      "Alerta ⚠️: El jugo puede contener restos de pepas.\n"
     ]
    },
    {
     "data": {
      "text/plain": [
       "'Jugo de naranja, plátano listo. 🏖️🥤 Que lo disfrutes!!! 🥤🏖️.'"
      ]
     },
     "execution_count": 14,
     "metadata": {},
     "output_type": "execute_result"
    }
   ],
   "source": [
    "# Preparamos el jugo: 'Jugo de naranja, plátano listo. 🏖️🥤 Que lo disfrutes!!! 🥤🏖️.'\n",
    "jugera.preparar_jugo()"
   ]
  },
  {
   "cell_type": "code",
   "execution_count": 15,
   "id": "bbc532b2",
   "metadata": {
    "cell_id": "00033-b4fab02e-5c0b-4370-b0ff-f5e7fc5e06ba",
    "colab": {
     "base_uri": "https://localhost:8080/"
    },
    "deepnote_cell_height": 125,
    "deepnote_cell_type": "code",
    "deepnote_to_be_reexecuted": false,
    "execution": {
     "iopub.execute_input": "2022-08-26T00:11:26.710871Z",
     "iopub.status.busy": "2022-08-26T00:11:26.709872Z",
     "iopub.status.idle": "2022-08-26T00:11:26.726874Z",
     "shell.execute_reply": "2022-08-26T00:11:26.725874Z",
     "shell.execute_reply.started": "2022-08-26T00:11:26.710871Z"
    },
    "execution_millis": 0,
    "execution_start": 1648863382273,
    "id": "bbc532b2",
    "outputId": "b4c0f575-3a0c-45ab-dec0-6bd27b30d9e7",
    "source_hash": "6a032d0a",
    "tags": []
   },
   "outputs": [
    {
     "name": "stdout",
     "output_type": "stream",
     "text": [
      "Bandeja vacía\n"
     ]
    }
   ],
   "source": [
    "# Una vez preparado el jugo, debería vaciarse la bandeja (imprimir Bandeja vacía)\n",
    "jugera.listar_ingredientes()"
   ]
  },
  {
   "cell_type": "markdown",
   "id": "972dbcac",
   "metadata": {
    "cell_id": "00034-73d8fb0c-4cf8-48a7-8cba-d20f701f942e",
    "deepnote_cell_height": 297.1875,
    "deepnote_cell_type": "markdown",
    "id": "972dbcac"
   },
   "source": [
    "### Clase Jugera + Properties  [1.0]\n",
    "\n",
    "Implementar `bandeja` usando una `property` que permita setear una `nueva_bandeja` como `bandeja` según las siguientes condiciones:\n",
    "\n",
    "\n",
    "- Compruebe que `nueva_bandeja` sea una lista. En caso contrario, levante una excepción.\n",
    "- No permita agregar más de 3 ingredientes a la bandeja a la vez. Si se entregan más de 3 frutas, se levante una excepción.\n",
    "- Se compruebe que todos los elementos del arreglo sean frutas. Para esto, por cada fruta compruebe que:\n",
    "    1. La fruta sea diccionario.\n",
    "    2. El diccionario entregado tenga las llaves `nombre`, `tipo`, `color` y `pepas`."
   ]
  },
  {
   "cell_type": "code",
   "execution_count": 16,
   "id": "X3RXI9nisGfa",
   "metadata": {
    "cell_id": "00035-61c68f41-ca47-4794-9d61-1b5d3197d5a1",
    "deepnote_cell_height": 490,
    "deepnote_cell_type": "code",
    "deepnote_to_be_reexecuted": false,
    "execution": {
     "iopub.execute_input": "2022-08-26T00:11:29.505499Z",
     "iopub.status.busy": "2022-08-26T00:11:29.505499Z",
     "iopub.status.idle": "2022-08-26T00:11:29.522503Z",
     "shell.execute_reply": "2022-08-26T00:11:29.521502Z",
     "shell.execute_reply.started": "2022-08-26T00:11:29.505499Z"
    },
    "execution_millis": 5,
    "execution_start": 1648863394051,
    "id": "X3RXI9nisGfa",
    "source_hash": "68977855",
    "tags": []
   },
   "outputs": [],
   "source": [
    "class Jugera(Electrodomestico):\n",
    "    def __init__(self):\n",
    "        super().__init__()\n",
    "        self._bandeja = []\n",
    "\n",
    "    @property\n",
    "    def bandeja(self):\n",
    "        return self._bandeja\n",
    "\n",
    "    @bandeja.setter\n",
    "    def bandeja(self, nueva_bandeja):\n",
    "        if not isinstance(nueva_bandeja, list):\n",
    "            raise TypeError(f\"Bandeja nueva es de tipo {type(nueva_bandeja)} en vez de list.\")\n",
    "        n = len(nueva_bandeja)\n",
    "        if n > 3:\n",
    "            raise Exception(f\"Nueva bandeja es tiene {n} elementos, se espera que tenga a lo más 3.\")\n",
    "        for fruta in nueva_bandeja:\n",
    "            self.agregar_ingrediente(fruta)\n",
    "\n",
    "    def agregar_ingrediente(self, nueva_fruta):\n",
    "        if not isinstance(nueva_fruta, dict):\n",
    "            raise TypeError(f\"Fruta {nueva_fruta} es de tipo {type(nueva_fruta)} en vez de dict\")\n",
    "        for llave in (\"nombre\", \"tipo\", \"color\", \"pepas\"):\n",
    "            if llave not in nueva_fruta.keys():\n",
    "                raise KeyError(f\"Fruta {nueva_fruta} no tiene llave {llave}.\")\n",
    "        self._bandeja.append(nueva_fruta)\n",
    "\n",
    "    def listar_ingredientes(self):\n",
    "        if len(self._bandeja) == 0:\n",
    "            print(\"Bandeja vacía\")\n",
    "        else:\n",
    "            nombres = \", \".join(fruta[\"nombre\"] for fruta in self._bandeja)\n",
    "            print(f\"Ingredientes en la bandeja: {nombres}.\")\n",
    "\n",
    "    def preparar_jugo(self):\n",
    "        self.esta_enchufado()  # Cae error de no ser el caso\n",
    "        if len(self._bandeja) < 1:\n",
    "            raise Exception('Error ❌: La bandeja no tiene ingredientes.')\n",
    "        if len(filtrar_por_pepa(datos, True)) > 0:\n",
    "            print('Alerta ⚠️: El jugo puede contener restos de pepas.')\n",
    "        nombres = \", \".join(fruta[\"nombre\"] for fruta in self._bandeja)\n",
    "        mensaje = f\"Jugo de {nombres} listo. 🏖️🥤 Que lo disfrutes!!! 🥤🏖️.\"\n",
    "        self._bandeja = []\n",
    "        return mensaje"
   ]
  },
  {
   "cell_type": "markdown",
   "id": "85tJmsMQ-14Q",
   "metadata": {
    "cell_id": "00036-342fea3a-f9ca-4640-8b91-b8aad9dbe1f4",
    "deepnote_cell_height": 122.796875,
    "deepnote_cell_type": "markdown",
    "id": "85tJmsMQ-14Q",
    "tags": []
   },
   "source": [
    "### Interacciones\n",
    "\n",
    "Las siguientes celdas les permitirán probar las interacciones de esta clase.\n",
    "La ejecución es solo referencial y no lleva puntaje. La idea es que la utilice como guía para desarrollar la clase."
   ]
  },
  {
   "cell_type": "code",
   "execution_count": 17,
   "id": "EwDGpigM-14Q",
   "metadata": {
    "cell_id": "00037-17d018bc-6787-43f5-b3bf-cced43cb481c",
    "deepnote_cell_height": 143,
    "deepnote_cell_type": "code",
    "deepnote_to_be_reexecuted": false,
    "execution": {
     "iopub.execute_input": "2022-08-26T00:11:30.269672Z",
     "iopub.status.busy": "2022-08-26T00:11:30.268671Z",
     "iopub.status.idle": "2022-08-26T00:11:30.287675Z",
     "shell.execute_reply": "2022-08-26T00:11:30.286674Z",
     "shell.execute_reply.started": "2022-08-26T00:11:30.269672Z"
    },
    "execution_millis": 4,
    "execution_start": 1648863396777,
    "id": "EwDGpigM-14Q",
    "outputId": "1e4fd177-b8b6-4490-e5c3-aedc9f219ee0",
    "source_hash": "d7617c26",
    "tags": []
   },
   "outputs": [
    {
     "name": "stdout",
     "output_type": "stream",
     "text": [
      "Bandeja vacía\n"
     ]
    }
   ],
   "source": [
    "jugera_2 = Jugera()\n",
    "\n",
    "jugera_2.listar_ingredientes()"
   ]
  },
  {
   "cell_type": "code",
   "execution_count": 18,
   "id": "CxPW1xir-14R",
   "metadata": {
    "cell_id": "00038-95a2db01-4115-48c9-bb65-7038de5dd2ff",
    "deepnote_cell_height": 139.1875,
    "deepnote_cell_type": "code",
    "deepnote_to_be_reexecuted": false,
    "execution": {
     "iopub.execute_input": "2022-08-26T00:11:30.738777Z",
     "iopub.status.busy": "2022-08-26T00:11:30.737778Z",
     "iopub.status.idle": "2022-08-26T00:11:30.811793Z",
     "shell.execute_reply": "2022-08-26T00:11:30.810792Z",
     "shell.execute_reply.started": "2022-08-26T00:11:30.738777Z"
    },
    "execution_millis": 18,
    "execution_start": 1648863398145,
    "id": "CxPW1xir-14R",
    "outputId": "f560e298-48ca-4b62-c4d0-f2db65a04baf",
    "source_hash": "480070d3",
    "tags": []
   },
   "outputs": [
    {
     "ename": "Exception",
     "evalue": "Alerta ⚠️: El electrodoméstico no está enchufado",
     "output_type": "error",
     "traceback": [
      "\u001b[1;31m---------------------------------------------------------------------------\u001b[0m",
      "\u001b[1;31mException\u001b[0m                                 Traceback (most recent call last)",
      "Input \u001b[1;32mIn [18]\u001b[0m, in \u001b[0;36m<cell line: 1>\u001b[1;34m()\u001b[0m\n\u001b[1;32m----> 1\u001b[0m \u001b[43mjugera_2\u001b[49m\u001b[38;5;241;43m.\u001b[39;49m\u001b[43mpreparar_jugo\u001b[49m\u001b[43m(\u001b[49m\u001b[43m)\u001b[49m\n",
      "Input \u001b[1;32mIn [16]\u001b[0m, in \u001b[0;36mJugera.preparar_jugo\u001b[1;34m(self)\u001b[0m\n\u001b[0;32m     35\u001b[0m \u001b[38;5;28;01mdef\u001b[39;00m \u001b[38;5;21mpreparar_jugo\u001b[39m(\u001b[38;5;28mself\u001b[39m):\n\u001b[1;32m---> 36\u001b[0m     \u001b[38;5;28;43mself\u001b[39;49m\u001b[38;5;241;43m.\u001b[39;49m\u001b[43mesta_enchufado\u001b[49m\u001b[43m(\u001b[49m\u001b[43m)\u001b[49m  \u001b[38;5;66;03m# Cae error de no ser el caso\u001b[39;00m\n\u001b[0;32m     37\u001b[0m     \u001b[38;5;28;01mif\u001b[39;00m \u001b[38;5;28mlen\u001b[39m(\u001b[38;5;28mself\u001b[39m\u001b[38;5;241m.\u001b[39m_bandeja) \u001b[38;5;241m<\u001b[39m \u001b[38;5;241m1\u001b[39m:\n\u001b[0;32m     38\u001b[0m         \u001b[38;5;28;01mraise\u001b[39;00m \u001b[38;5;167;01mException\u001b[39;00m(\u001b[38;5;124m'\u001b[39m\u001b[38;5;124mError ❌: La bandeja no tiene ingredientes.\u001b[39m\u001b[38;5;124m'\u001b[39m)\n",
      "Input \u001b[1;32mIn [7]\u001b[0m, in \u001b[0;36mElectrodomestico.esta_enchufado\u001b[1;34m(self)\u001b[0m\n\u001b[0;32m      5\u001b[0m \u001b[38;5;28;01mdef\u001b[39;00m \u001b[38;5;21mesta_enchufado\u001b[39m(\u001b[38;5;28mself\u001b[39m):\n\u001b[0;32m      6\u001b[0m     \u001b[38;5;28;01mif\u001b[39;00m \u001b[38;5;129;01mnot\u001b[39;00m \u001b[38;5;28mself\u001b[39m\u001b[38;5;241m.\u001b[39menchufado:\n\u001b[1;32m----> 7\u001b[0m         \u001b[38;5;28;01mraise\u001b[39;00m \u001b[38;5;167;01mException\u001b[39;00m(\u001b[38;5;124m'\u001b[39m\u001b[38;5;124mAlerta ⚠️: El electrodoméstico no está enchufado\u001b[39m\u001b[38;5;124m'\u001b[39m)\n",
      "\u001b[1;31mException\u001b[0m: Alerta ⚠️: El electrodoméstico no está enchufado"
     ]
    }
   ],
   "source": [
    "jugera_2.preparar_jugo()"
   ]
  },
  {
   "cell_type": "code",
   "execution_count": 19,
   "id": "whx7BiIE-14R",
   "metadata": {
    "cell_id": "00039-648e90a9-a693-4d0a-8692-a20751cfc99a",
    "deepnote_cell_height": 94,
    "deepnote_cell_type": "code",
    "deepnote_to_be_reexecuted": false,
    "execution": {
     "iopub.execute_input": "2022-08-26T00:11:31.116861Z",
     "iopub.status.busy": "2022-08-26T00:11:31.116861Z",
     "iopub.status.idle": "2022-08-26T00:11:31.130863Z",
     "shell.execute_reply": "2022-08-26T00:11:31.129863Z",
     "shell.execute_reply.started": "2022-08-26T00:11:31.116861Z"
    },
    "execution_millis": 3,
    "execution_start": 1648863398900,
    "id": "whx7BiIE-14R",
    "source_hash": "d3e1edd9",
    "tags": []
   },
   "outputs": [],
   "source": [
    "# Enchufamos el electrodoméstico\n",
    "jugera_2.enchufar()"
   ]
  },
  {
   "cell_type": "code",
   "execution_count": 20,
   "id": "XXoMJ0vY-14S",
   "metadata": {
    "cell_id": "00040-88f17b75-396d-4170-88cd-bafad6f7f911",
    "deepnote_cell_height": 162.1875,
    "deepnote_cell_type": "code",
    "deepnote_to_be_reexecuted": false,
    "execution": {
     "iopub.execute_input": "2022-08-26T00:11:31.746002Z",
     "iopub.status.busy": "2022-08-26T00:11:31.745003Z",
     "iopub.status.idle": "2022-08-26T00:11:31.802015Z",
     "shell.execute_reply": "2022-08-26T00:11:31.801015Z",
     "shell.execute_reply.started": "2022-08-26T00:11:31.746002Z"
    },
    "execution_millis": 17,
    "execution_start": 1648863400238,
    "id": "XXoMJ0vY-14S",
    "outputId": "79fa5670-1df0-4101-cdab-269449b25e37",
    "source_hash": "b81f1f5b",
    "tags": []
   },
   "outputs": [
    {
     "ename": "Exception",
     "evalue": "Error ❌: La bandeja no tiene ingredientes.",
     "output_type": "error",
     "traceback": [
      "\u001b[1;31m---------------------------------------------------------------------------\u001b[0m",
      "\u001b[1;31mException\u001b[0m                                 Traceback (most recent call last)",
      "Input \u001b[1;32mIn [20]\u001b[0m, in \u001b[0;36m<cell line: 2>\u001b[1;34m()\u001b[0m\n\u001b[0;32m      1\u001b[0m \u001b[38;5;66;03m# Esta celda debería levantar ina excepción informandoles que la bandeja no tiene ingredientes.\u001b[39;00m\n\u001b[1;32m----> 2\u001b[0m \u001b[43mjugera_2\u001b[49m\u001b[38;5;241;43m.\u001b[39;49m\u001b[43mpreparar_jugo\u001b[49m\u001b[43m(\u001b[49m\u001b[43m)\u001b[49m\n",
      "Input \u001b[1;32mIn [16]\u001b[0m, in \u001b[0;36mJugera.preparar_jugo\u001b[1;34m(self)\u001b[0m\n\u001b[0;32m     36\u001b[0m \u001b[38;5;28mself\u001b[39m\u001b[38;5;241m.\u001b[39mesta_enchufado()  \u001b[38;5;66;03m# Cae error de no ser el caso\u001b[39;00m\n\u001b[0;32m     37\u001b[0m \u001b[38;5;28;01mif\u001b[39;00m \u001b[38;5;28mlen\u001b[39m(\u001b[38;5;28mself\u001b[39m\u001b[38;5;241m.\u001b[39m_bandeja) \u001b[38;5;241m<\u001b[39m \u001b[38;5;241m1\u001b[39m:\n\u001b[1;32m---> 38\u001b[0m     \u001b[38;5;28;01mraise\u001b[39;00m \u001b[38;5;167;01mException\u001b[39;00m(\u001b[38;5;124m'\u001b[39m\u001b[38;5;124mError ❌: La bandeja no tiene ingredientes.\u001b[39m\u001b[38;5;124m'\u001b[39m)\n\u001b[0;32m     39\u001b[0m \u001b[38;5;28;01mif\u001b[39;00m \u001b[38;5;28mlen\u001b[39m(filtrar_por_pepa(datos, \u001b[38;5;28;01mTrue\u001b[39;00m)) \u001b[38;5;241m>\u001b[39m \u001b[38;5;241m0\u001b[39m:\n\u001b[0;32m     40\u001b[0m     \u001b[38;5;28mprint\u001b[39m(\u001b[38;5;124m'\u001b[39m\u001b[38;5;124mAlerta ⚠️: El jugo puede contener restos de pepas.\u001b[39m\u001b[38;5;124m'\u001b[39m)\n",
      "\u001b[1;31mException\u001b[0m: Error ❌: La bandeja no tiene ingredientes."
     ]
    }
   ],
   "source": [
    "# Esta celda debería levantar ina excepción informandoles que la bandeja no tiene ingredientes.\n",
    "jugera_2.preparar_jugo()"
   ]
  },
  {
   "cell_type": "code",
   "execution_count": 21,
   "id": "X6NiBUai-14S",
   "metadata": {
    "cell_id": "00041-d568b85e-c5c6-4906-94a7-01c11a0dc18d",
    "deepnote_cell_height": 157.1875,
    "deepnote_cell_type": "code",
    "deepnote_to_be_reexecuted": false,
    "execution": {
     "iopub.execute_input": "2022-08-26T00:11:32.176100Z",
     "iopub.status.busy": "2022-08-26T00:11:32.175099Z",
     "iopub.status.idle": "2022-08-26T00:11:32.217109Z",
     "shell.execute_reply": "2022-08-26T00:11:32.216108Z",
     "shell.execute_reply.started": "2022-08-26T00:11:32.176100Z"
    },
    "execution_millis": 482,
    "execution_start": 1648863402271,
    "id": "X6NiBUai-14S",
    "outputId": "d0841a5f-b54f-476b-a3a6-d4d2469a6d2c",
    "source_hash": "a016a727",
    "tags": []
   },
   "outputs": [
    {
     "ename": "Exception",
     "evalue": "Nueva bandeja es tiene 4 elementos, se espera que tenga a lo más 3.",
     "output_type": "error",
     "traceback": [
      "\u001b[1;31m---------------------------------------------------------------------------\u001b[0m",
      "\u001b[1;31mException\u001b[0m                                 Traceback (most recent call last)",
      "Input \u001b[1;32mIn [21]\u001b[0m, in \u001b[0;36m<cell line: 2>\u001b[1;34m()\u001b[0m\n\u001b[0;32m      1\u001b[0m \u001b[38;5;66;03m# Agregamos algunos ingredientes (en este caso, como son más de 3, fallará)\u001b[39;00m\n\u001b[1;32m----> 2\u001b[0m jugera_2\u001b[38;5;241m.\u001b[39mbandeja \u001b[38;5;241m=\u001b[39m [naranja, platano, frutilla, limon]\n",
      "Input \u001b[1;32mIn [16]\u001b[0m, in \u001b[0;36mJugera.bandeja\u001b[1;34m(self, nueva_bandeja)\u001b[0m\n\u001b[0;32m     14\u001b[0m n \u001b[38;5;241m=\u001b[39m \u001b[38;5;28mlen\u001b[39m(nueva_bandeja)\n\u001b[0;32m     15\u001b[0m \u001b[38;5;28;01mif\u001b[39;00m n \u001b[38;5;241m>\u001b[39m \u001b[38;5;241m3\u001b[39m:\n\u001b[1;32m---> 16\u001b[0m     \u001b[38;5;28;01mraise\u001b[39;00m \u001b[38;5;167;01mException\u001b[39;00m(\u001b[38;5;124mf\u001b[39m\u001b[38;5;124m\"\u001b[39m\u001b[38;5;124mNueva bandeja es tiene \u001b[39m\u001b[38;5;132;01m{\u001b[39;00mn\u001b[38;5;132;01m}\u001b[39;00m\u001b[38;5;124m elementos, se espera que tenga a lo más 3.\u001b[39m\u001b[38;5;124m\"\u001b[39m)\n\u001b[0;32m     17\u001b[0m \u001b[38;5;28;01mfor\u001b[39;00m fruta \u001b[38;5;129;01min\u001b[39;00m nueva_bandeja:\n\u001b[0;32m     18\u001b[0m     \u001b[38;5;28mself\u001b[39m\u001b[38;5;241m.\u001b[39magregar_ingrediente(fruta)\n",
      "\u001b[1;31mException\u001b[0m: Nueva bandeja es tiene 4 elementos, se espera que tenga a lo más 3."
     ]
    }
   ],
   "source": [
    "# Agregamos algunos ingredientes (en este caso, como son más de 3, fallará)\n",
    "jugera_2.bandeja = [naranja, platano, frutilla, limon]"
   ]
  },
  {
   "cell_type": "code",
   "execution_count": 22,
   "id": "iBupebQe-14T",
   "metadata": {
    "cell_id": "00042-8428a7c5-2a18-4c9f-9550-f5caa8f375f5",
    "deepnote_cell_height": 175.1875,
    "deepnote_cell_type": "code",
    "deepnote_to_be_reexecuted": false,
    "execution": {
     "iopub.execute_input": "2022-08-26T00:11:32.820245Z",
     "iopub.status.busy": "2022-08-26T00:11:32.819244Z",
     "iopub.status.idle": "2022-08-26T00:11:32.869255Z",
     "shell.execute_reply": "2022-08-26T00:11:32.867254Z",
     "shell.execute_reply.started": "2022-08-26T00:11:32.820245Z"
    },
    "execution_millis": 20,
    "execution_start": 1648863404537,
    "id": "iBupebQe-14T",
    "outputId": "945e567c-f0a9-4b43-93fa-b33d7048ef66",
    "source_hash": "561a3ff9",
    "tags": []
   },
   "outputs": [
    {
     "ename": "TypeError",
     "evalue": "Fruta naranja es de tipo <class 'str'> en vez de dict",
     "output_type": "error",
     "traceback": [
      "\u001b[1;31m---------------------------------------------------------------------------\u001b[0m",
      "\u001b[1;31mTypeError\u001b[0m                                 Traceback (most recent call last)",
      "Input \u001b[1;32mIn [22]\u001b[0m, in \u001b[0;36m<cell line: 3>\u001b[1;34m()\u001b[0m\n\u001b[0;32m      1\u001b[0m \u001b[38;5;66;03m# Agregamos algunos ingredientes \u001b[39;00m\n\u001b[0;32m      2\u001b[0m \u001b[38;5;66;03m# (en este caso debería fallar, ya que estamos entregando un string en el primer lugar)\u001b[39;00m\n\u001b[1;32m----> 3\u001b[0m jugera_2\u001b[38;5;241m.\u001b[39mbandeja \u001b[38;5;241m=\u001b[39m [\u001b[38;5;124m\"\u001b[39m\u001b[38;5;124mnaranja\u001b[39m\u001b[38;5;124m\"\u001b[39m, platano, frutilla]\n",
      "Input \u001b[1;32mIn [16]\u001b[0m, in \u001b[0;36mJugera.bandeja\u001b[1;34m(self, nueva_bandeja)\u001b[0m\n\u001b[0;32m     16\u001b[0m     \u001b[38;5;28;01mraise\u001b[39;00m \u001b[38;5;167;01mException\u001b[39;00m(\u001b[38;5;124mf\u001b[39m\u001b[38;5;124m\"\u001b[39m\u001b[38;5;124mNueva bandeja es tiene \u001b[39m\u001b[38;5;132;01m{\u001b[39;00mn\u001b[38;5;132;01m}\u001b[39;00m\u001b[38;5;124m elementos, se espera que tenga a lo más 3.\u001b[39m\u001b[38;5;124m\"\u001b[39m)\n\u001b[0;32m     17\u001b[0m \u001b[38;5;28;01mfor\u001b[39;00m fruta \u001b[38;5;129;01min\u001b[39;00m nueva_bandeja:\n\u001b[1;32m---> 18\u001b[0m     \u001b[38;5;28;43mself\u001b[39;49m\u001b[38;5;241;43m.\u001b[39;49m\u001b[43magregar_ingrediente\u001b[49m\u001b[43m(\u001b[49m\u001b[43mfruta\u001b[49m\u001b[43m)\u001b[49m\n",
      "Input \u001b[1;32mIn [16]\u001b[0m, in \u001b[0;36mJugera.agregar_ingrediente\u001b[1;34m(self, nueva_fruta)\u001b[0m\n\u001b[0;32m     20\u001b[0m \u001b[38;5;28;01mdef\u001b[39;00m \u001b[38;5;21magregar_ingrediente\u001b[39m(\u001b[38;5;28mself\u001b[39m, nueva_fruta):\n\u001b[0;32m     21\u001b[0m     \u001b[38;5;28;01mif\u001b[39;00m \u001b[38;5;129;01mnot\u001b[39;00m \u001b[38;5;28misinstance\u001b[39m(nueva_fruta, \u001b[38;5;28mdict\u001b[39m):\n\u001b[1;32m---> 22\u001b[0m         \u001b[38;5;28;01mraise\u001b[39;00m \u001b[38;5;167;01mTypeError\u001b[39;00m(\u001b[38;5;124mf\u001b[39m\u001b[38;5;124m\"\u001b[39m\u001b[38;5;124mFruta \u001b[39m\u001b[38;5;132;01m{\u001b[39;00mnueva_fruta\u001b[38;5;132;01m}\u001b[39;00m\u001b[38;5;124m es de tipo \u001b[39m\u001b[38;5;132;01m{\u001b[39;00m\u001b[38;5;28mtype\u001b[39m(nueva_fruta)\u001b[38;5;132;01m}\u001b[39;00m\u001b[38;5;124m en vez de dict\u001b[39m\u001b[38;5;124m\"\u001b[39m)\n\u001b[0;32m     23\u001b[0m     \u001b[38;5;28;01mfor\u001b[39;00m llave \u001b[38;5;129;01min\u001b[39;00m (\u001b[38;5;124m\"\u001b[39m\u001b[38;5;124mnombre\u001b[39m\u001b[38;5;124m\"\u001b[39m, \u001b[38;5;124m\"\u001b[39m\u001b[38;5;124mtipo\u001b[39m\u001b[38;5;124m\"\u001b[39m, \u001b[38;5;124m\"\u001b[39m\u001b[38;5;124mcolor\u001b[39m\u001b[38;5;124m\"\u001b[39m, \u001b[38;5;124m\"\u001b[39m\u001b[38;5;124mpepas\u001b[39m\u001b[38;5;124m\"\u001b[39m):\n\u001b[0;32m     24\u001b[0m         \u001b[38;5;28;01mif\u001b[39;00m llave \u001b[38;5;129;01mnot\u001b[39;00m \u001b[38;5;129;01min\u001b[39;00m nueva_fruta\u001b[38;5;241m.\u001b[39mkeys():\n",
      "\u001b[1;31mTypeError\u001b[0m: Fruta naranja es de tipo <class 'str'> en vez de dict"
     ]
    }
   ],
   "source": [
    "# Agregamos algunos ingredientes \n",
    "# (en este caso debería fallar, ya que estamos entregando un string en el primer lugar)\n",
    "jugera_2.bandeja = [\"naranja\", platano, frutilla]"
   ]
  },
  {
   "cell_type": "code",
   "execution_count": 23,
   "id": "r-DL2MFB-14T",
   "metadata": {
    "cell_id": "00043-cdaa6e03-e046-4306-b84e-6aa8d00e6b4f",
    "deepnote_cell_height": 175.1875,
    "deepnote_cell_type": "code",
    "deepnote_to_be_reexecuted": false,
    "execution": {
     "iopub.execute_input": "2022-08-26T00:11:33.434382Z",
     "iopub.status.busy": "2022-08-26T00:11:33.434382Z",
     "iopub.status.idle": "2022-08-26T00:11:33.488395Z",
     "shell.execute_reply": "2022-08-26T00:11:33.487394Z",
     "shell.execute_reply.started": "2022-08-26T00:11:33.434382Z"
    },
    "execution_millis": 2,
    "execution_start": 1648863408300,
    "id": "r-DL2MFB-14T",
    "outputId": "a2aecda6-1cf6-474f-e150-534b115bbc62",
    "source_hash": "ecc3586",
    "tags": []
   },
   "outputs": [
    {
     "ename": "KeyError",
     "evalue": "\"Fruta {'nombre': 'arándano'} no tiene llave tipo.\"",
     "output_type": "error",
     "traceback": [
      "\u001b[1;31m---------------------------------------------------------------------------\u001b[0m",
      "\u001b[1;31mKeyError\u001b[0m                                  Traceback (most recent call last)",
      "Input \u001b[1;32mIn [23]\u001b[0m, in \u001b[0;36m<cell line: 3>\u001b[1;34m()\u001b[0m\n\u001b[0;32m      1\u001b[0m \u001b[38;5;66;03m# Agregamos algunos ingredientes \u001b[39;00m\n\u001b[0;32m      2\u001b[0m \u001b[38;5;66;03m# (en este caso debería fallar, ya que arándando tiene solo la llave nombre)\u001b[39;00m\n\u001b[1;32m----> 3\u001b[0m jugera_2\u001b[38;5;241m.\u001b[39mbandeja \u001b[38;5;241m=\u001b[39m [{\u001b[38;5;124m'\u001b[39m\u001b[38;5;124mnombre\u001b[39m\u001b[38;5;124m'\u001b[39m: \u001b[38;5;124m'\u001b[39m\u001b[38;5;124marándano\u001b[39m\u001b[38;5;124m'\u001b[39m}, platano, frutilla]\n",
      "Input \u001b[1;32mIn [16]\u001b[0m, in \u001b[0;36mJugera.bandeja\u001b[1;34m(self, nueva_bandeja)\u001b[0m\n\u001b[0;32m     16\u001b[0m     \u001b[38;5;28;01mraise\u001b[39;00m \u001b[38;5;167;01mException\u001b[39;00m(\u001b[38;5;124mf\u001b[39m\u001b[38;5;124m\"\u001b[39m\u001b[38;5;124mNueva bandeja es tiene \u001b[39m\u001b[38;5;132;01m{\u001b[39;00mn\u001b[38;5;132;01m}\u001b[39;00m\u001b[38;5;124m elementos, se espera que tenga a lo más 3.\u001b[39m\u001b[38;5;124m\"\u001b[39m)\n\u001b[0;32m     17\u001b[0m \u001b[38;5;28;01mfor\u001b[39;00m fruta \u001b[38;5;129;01min\u001b[39;00m nueva_bandeja:\n\u001b[1;32m---> 18\u001b[0m     \u001b[38;5;28;43mself\u001b[39;49m\u001b[38;5;241;43m.\u001b[39;49m\u001b[43magregar_ingrediente\u001b[49m\u001b[43m(\u001b[49m\u001b[43mfruta\u001b[49m\u001b[43m)\u001b[49m\n",
      "Input \u001b[1;32mIn [16]\u001b[0m, in \u001b[0;36mJugera.agregar_ingrediente\u001b[1;34m(self, nueva_fruta)\u001b[0m\n\u001b[0;32m     23\u001b[0m \u001b[38;5;28;01mfor\u001b[39;00m llave \u001b[38;5;129;01min\u001b[39;00m (\u001b[38;5;124m\"\u001b[39m\u001b[38;5;124mnombre\u001b[39m\u001b[38;5;124m\"\u001b[39m, \u001b[38;5;124m\"\u001b[39m\u001b[38;5;124mtipo\u001b[39m\u001b[38;5;124m\"\u001b[39m, \u001b[38;5;124m\"\u001b[39m\u001b[38;5;124mcolor\u001b[39m\u001b[38;5;124m\"\u001b[39m, \u001b[38;5;124m\"\u001b[39m\u001b[38;5;124mpepas\u001b[39m\u001b[38;5;124m\"\u001b[39m):\n\u001b[0;32m     24\u001b[0m     \u001b[38;5;28;01mif\u001b[39;00m llave \u001b[38;5;129;01mnot\u001b[39;00m \u001b[38;5;129;01min\u001b[39;00m nueva_fruta\u001b[38;5;241m.\u001b[39mkeys():\n\u001b[1;32m---> 25\u001b[0m         \u001b[38;5;28;01mraise\u001b[39;00m \u001b[38;5;167;01mKeyError\u001b[39;00m(\u001b[38;5;124mf\u001b[39m\u001b[38;5;124m\"\u001b[39m\u001b[38;5;124mFruta \u001b[39m\u001b[38;5;132;01m{\u001b[39;00mnueva_fruta\u001b[38;5;132;01m}\u001b[39;00m\u001b[38;5;124m no tiene llave \u001b[39m\u001b[38;5;132;01m{\u001b[39;00mllave\u001b[38;5;132;01m}\u001b[39;00m\u001b[38;5;124m.\u001b[39m\u001b[38;5;124m\"\u001b[39m)\n\u001b[0;32m     26\u001b[0m \u001b[38;5;28mself\u001b[39m\u001b[38;5;241m.\u001b[39m_bandeja\u001b[38;5;241m.\u001b[39mappend(nueva_fruta)\n",
      "\u001b[1;31mKeyError\u001b[0m: \"Fruta {'nombre': 'arándano'} no tiene llave tipo.\""
     ]
    }
   ],
   "source": [
    "# Agregamos algunos ingredientes \n",
    "# (en este caso debería fallar, ya que arándando tiene solo la llave nombre)\n",
    "jugera_2.bandeja = [{'nombre': 'arándano'}, platano, frutilla]"
   ]
  },
  {
   "cell_type": "code",
   "execution_count": 24,
   "id": "Oxq_QQ9C-14T",
   "metadata": {
    "cell_id": "00044-5f6a180e-79e3-43be-9bac-9d8ca3d8994d",
    "deepnote_cell_height": 179,
    "deepnote_cell_type": "code",
    "deepnote_to_be_reexecuted": false,
    "execution": {
     "iopub.execute_input": "2022-08-26T00:11:34.029517Z",
     "iopub.status.busy": "2022-08-26T00:11:34.028516Z",
     "iopub.status.idle": "2022-08-26T00:11:34.043519Z",
     "shell.execute_reply": "2022-08-26T00:11:34.042518Z",
     "shell.execute_reply.started": "2022-08-26T00:11:34.029517Z"
    },
    "execution_millis": 6,
    "execution_start": 1648863409767,
    "id": "Oxq_QQ9C-14T",
    "outputId": "9e813004-57e1-43a4-aad0-e360f40cab32",
    "source_hash": "b2bcbf",
    "tags": []
   },
   "outputs": [
    {
     "name": "stdout",
     "output_type": "stream",
     "text": [
      "Ingredientes en la bandeja: naranja, plátano, frutilla.\n"
     ]
    }
   ],
   "source": [
    "# Agregamos algunos ingredientes (en este caso, como son 3, debería funcionar)\n",
    "jugera_2.bandeja = [naranja, platano, frutilla]\n",
    "\n",
    "# Y los listamos (debería imprimir: 'Ingredientes en la bandeja: naranja, plátano')\n",
    "jugera_2.listar_ingredientes()"
   ]
  },
  {
   "cell_type": "code",
   "execution_count": 25,
   "id": "zvE7cQdm-14U",
   "metadata": {
    "cell_id": "00045-97676ca5-7d02-499f-974d-9e53412fcdc2",
    "deepnote_cell_height": 194.1875,
    "deepnote_cell_type": "code",
    "deepnote_output_heights": [
     null,
     20.1875
    ],
    "deepnote_to_be_reexecuted": false,
    "execution": {
     "iopub.execute_input": "2022-08-26T00:11:34.795687Z",
     "iopub.status.busy": "2022-08-26T00:11:34.795687Z",
     "iopub.status.idle": "2022-08-26T00:11:34.809691Z",
     "shell.execute_reply": "2022-08-26T00:11:34.809691Z",
     "shell.execute_reply.started": "2022-08-26T00:11:34.795687Z"
    },
    "execution_millis": 5,
    "execution_start": 1648863411760,
    "id": "zvE7cQdm-14U",
    "outputId": "629fb55b-8764-4b9d-9504-904c849f5920",
    "source_hash": "a9d685c1",
    "tags": []
   },
   "outputs": [
    {
     "name": "stdout",
     "output_type": "stream",
     "text": [
      "Alerta ⚠️: El jugo puede contener restos de pepas.\n"
     ]
    },
    {
     "data": {
      "text/plain": [
       "'Jugo de naranja, plátano, frutilla listo. 🏖️🥤 Que lo disfrutes!!! 🥤🏖️.'"
      ]
     },
     "execution_count": 25,
     "metadata": {},
     "output_type": "execute_result"
    }
   ],
   "source": [
    "# Una vez preparado el jugo, imprima el contenido del jugo y si una alerta, \n",
    "# en el caso que el jugo tenga pepas.\n",
    "jugera_2.preparar_jugo()"
   ]
  },
  {
   "cell_type": "code",
   "execution_count": 26,
   "id": "62caf28b-257a-4afb-9a3d-8e6d72b37d6e",
   "metadata": {
    "execution": {
     "iopub.execute_input": "2022-08-26T00:11:35.320807Z",
     "iopub.status.busy": "2022-08-26T00:11:35.320807Z",
     "iopub.status.idle": "2022-08-26T00:11:35.337811Z",
     "shell.execute_reply": "2022-08-26T00:11:35.336811Z",
     "shell.execute_reply.started": "2022-08-26T00:11:35.320807Z"
    },
    "tags": []
   },
   "outputs": [
    {
     "data": {
      "text/plain": [
       "[]"
      ]
     },
     "execution_count": 26,
     "metadata": {},
     "output_type": "execute_result"
    }
   ],
   "source": [
    "jugera_2._bandeja"
   ]
  },
  {
   "cell_type": "markdown",
   "id": "DiatRvE5-14U",
   "metadata": {
    "created_in_deepnote_cell": true,
    "deepnote_cell_type": "markdown",
    "id": "DiatRvE5-14U",
    "tags": []
   },
   "source": [
    "<a style='text-decoration:none;line-height:16px;display:flex;color:#5B5B62;padding:10px;justify-content:end;' href='https://deepnote.com?utm_source=created-in-deepnote-cell&projectId=87110296-876e-426f-b91d-aaf681223468' target=\"_blank\">\n",
    "<img alt='Created in deepnote.com' style='display:inline;max-height:16px;margin:0px;margin-right:7.5px;' src='data:image/svg+xml;base64,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' > </img>\n",
    "Created in <span style='font-weight:600;margin-left:4px;'>Deepnote</span></a>"
   ]
  }
 ],
 "metadata": {
  "colab": {
   "collapsed_sections": [],
   "name": "lab 1.ipynb",
   "provenance": []
  },
  "deepnote": {},
  "deepnote_execution_queue": [],
  "deepnote_notebook_id": "de356b11-874c-495a-ba14-3a203f214e90",
  "kernelspec": {
   "display_name": "Python 3 (ipykernel)",
   "language": "python",
   "name": "python3"
  },
  "language_info": {
   "codemirror_mode": {
    "name": "ipython",
    "version": 3
   },
   "file_extension": ".py",
   "mimetype": "text/x-python",
   "name": "python",
   "nbconvert_exporter": "python",
   "pygments_lexer": "ipython3",
   "version": "3.10.5"
  }
 },
 "nbformat": 4,
 "nbformat_minor": 5
}
